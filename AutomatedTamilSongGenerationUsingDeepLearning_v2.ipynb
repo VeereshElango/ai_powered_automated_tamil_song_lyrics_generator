{
  "nbformat": 4,
  "nbformat_minor": 0,
  "metadata": {
    "colab": {
      "name": "AutomatedTamilSongGenerationUsingDeepLearning_v2.ipynb",
      "provenance": [],
      "collapsed_sections": [
        "WYkbNuWMGd4T"
      ],
      "machine_shape": "hm",
      "mount_file_id": "1mj7wy3HNvjouVJdmjOJCeBsp_C1mvdr5",
      "authorship_tag": "ABX9TyOR0GKwIFZk7Y1bnVNCVNR+",
      "include_colab_link": true
    },
    "kernelspec": {
      "name": "python3",
      "display_name": "Python 3"
    }
  },
  "cells": [
    {
      "cell_type": "markdown",
      "metadata": {
        "id": "view-in-github",
        "colab_type": "text"
      },
      "source": [
        "<a href=\"https://colab.research.google.com/github/VeereshElango/ai_powered_automated_tamil_song_lyrics_generator/blob/master/AutomatedTamilSongGenerationUsingDeepLearning_v2.ipynb\" target=\"_parent\"><img src=\"https://colab.research.google.com/assets/colab-badge.svg\" alt=\"Open In Colab\"/></a>"
      ]
    },
    {
      "cell_type": "markdown",
      "metadata": {
        "id": "U4nyRTwRU2A0",
        "colab_type": "text"
      },
      "source": [
        "# AutomatedTamilSongGenerationUsingDeepLearning"
      ]
    },
    {
      "cell_type": "markdown",
      "metadata": {
        "id": "O2fCh_3H2pHs",
        "colab_type": "text"
      },
      "source": [
        "This notebook was built on top of Tensorflow's tutorial [Text generation with an RNN](https://www.tensorflow.org/tutorials/text/text_generation). The data utilized in this notebook can be find [here](https://cutt.ly/tt7krlz)."
      ]
    },
    {
      "cell_type": "markdown",
      "metadata": {
        "id": "00RtJb3gbVJc",
        "colab_type": "text"
      },
      "source": [
        "**Updates in this version:**\n",
        "\n",
        "\n",
        "*   Added lyricist specific model Vairamuthu, Kannadasan & Vaali\n",
        "*   Added evaluation of unigram and bigram pairs on generated lyrics at different diversities\n",
        "\n"
      ]
    },
    {
      "cell_type": "markdown",
      "metadata": {
        "id": "E2-FVGqhfk9Q",
        "colab_type": "text"
      },
      "source": [
        "## Data Import & Cleaning"
      ]
    },
    {
      "cell_type": "code",
      "metadata": {
        "id": "lvixjNKja50I",
        "colab_type": "code",
        "outputId": "030a369e-7281-460b-b61d-9f20bb72288e",
        "colab": {
          "base_uri": "https://localhost:8080/",
          "height": 122
        }
      },
      "source": [
        "from google.colab import drive\n",
        "drive.mount('/content/drive')"
      ],
      "execution_count": 1,
      "outputs": [
        {
          "output_type": "stream",
          "text": [
            "Go to this URL in a browser: https://accounts.google.com/o/oauth2/auth?client_id=947318989803-6bn6qk8qdgf4n4g3pfee6491hc0brc4i.apps.googleusercontent.com&redirect_uri=urn%3aietf%3awg%3aoauth%3a2.0%3aoob&response_type=code&scope=email%20https%3a%2f%2fwww.googleapis.com%2fauth%2fdocs.test%20https%3a%2f%2fwww.googleapis.com%2fauth%2fdrive%20https%3a%2f%2fwww.googleapis.com%2fauth%2fdrive.photos.readonly%20https%3a%2f%2fwww.googleapis.com%2fauth%2fpeopleapi.readonly\n",
            "\n",
            "Enter your authorization code:\n",
            "··········\n",
            "Mounted at /content/drive\n"
          ],
          "name": "stdout"
        }
      ]
    },
    {
      "cell_type": "code",
      "metadata": {
        "id": "wR3qol8WblVz",
        "colab_type": "code",
        "colab": {}
      },
      "source": [
        "import pandas as pd"
      ],
      "execution_count": 0,
      "outputs": []
    },
    {
      "cell_type": "code",
      "metadata": {
        "id": "uk7hJMfNeoQk",
        "colab_type": "code",
        "colab": {}
      },
      "source": [
        "df = pd.read_csv(\"/content/drive/My Drive/ColabDatasets/Public/tamil_song_lyrics/tamilsonglyrics.csv\", index_col=[0])"
      ],
      "execution_count": 0,
      "outputs": []
    },
    {
      "cell_type": "code",
      "metadata": {
        "id": "3rofA1nhe9Au",
        "colab_type": "code",
        "outputId": "898c7018-b1e8-446e-a112-81a9416fcf46",
        "colab": {
          "base_uri": "https://localhost:8080/",
          "height": 204
        }
      },
      "source": [
        "df= df.sample(frac=1).reset_index(drop=True)\n",
        "df.head()"
      ],
      "execution_count": 4,
      "outputs": [
        {
          "output_type": "execute_result",
          "data": {
            "text/html": [
              "<div>\n",
              "<style scoped>\n",
              "    .dataframe tbody tr th:only-of-type {\n",
              "        vertical-align: middle;\n",
              "    }\n",
              "\n",
              "    .dataframe tbody tr th {\n",
              "        vertical-align: top;\n",
              "    }\n",
              "\n",
              "    .dataframe thead th {\n",
              "        text-align: right;\n",
              "    }\n",
              "</style>\n",
              "<table border=\"1\" class=\"dataframe\">\n",
              "  <thead>\n",
              "    <tr style=\"text-align: right;\">\n",
              "      <th></th>\n",
              "      <th>Lyricist</th>\n",
              "      <th>Lyrics</th>\n",
              "    </tr>\n",
              "  </thead>\n",
              "  <tbody>\n",
              "    <tr>\n",
              "      <th>0</th>\n",
              "      <td>Thamarai</td>\n",
              "      <td>கடலினில் மீனாக இருந்தவள் நான்\\r\\nஉனக்கென கரை த...</td>\n",
              "    </tr>\n",
              "    <tr>\n",
              "      <th>1</th>\n",
              "      <td>Vairamuthu</td>\n",
              "      <td>சிக்கு புக்கு சிக்கு புக்கு ரயிலே அட கலக்குது ...</td>\n",
              "    </tr>\n",
              "    <tr>\n",
              "      <th>2</th>\n",
              "      <td>NaN</td>\n",
              "      <td>உனைக் கண்ட கனவொன்று\\r\\nதேன் போலே\\r\\nஎனக்குயிரூ...</td>\n",
              "    </tr>\n",
              "    <tr>\n",
              "      <th>3</th>\n",
              "      <td>NaN</td>\n",
              "      <td>நடப்பது அறுபத்தெட்டுஇது அறுபத்தெட்டு\\r\\nஇன்னும...</td>\n",
              "    </tr>\n",
              "    <tr>\n",
              "      <th>4</th>\n",
              "      <td>Na. Muthukumar</td>\n",
              "      <td>ரப்பப்பபா… ரபிப்பா… ரப்பப்பா… ரபிப்பா…\\r\\nரப்ப...</td>\n",
              "    </tr>\n",
              "  </tbody>\n",
              "</table>\n",
              "</div>"
            ],
            "text/plain": [
              "         Lyricist                                             Lyrics\n",
              "0        Thamarai  கடலினில் மீனாக இருந்தவள் நான்\\r\\nஉனக்கென கரை த...\n",
              "1      Vairamuthu  சிக்கு புக்கு சிக்கு புக்கு ரயிலே அட கலக்குது ...\n",
              "2             NaN  உனைக் கண்ட கனவொன்று\\r\\nதேன் போலே\\r\\nஎனக்குயிரூ...\n",
              "3             NaN  நடப்பது அறுபத்தெட்டுஇது அறுபத்தெட்டு\\r\\nஇன்னும...\n",
              "4  Na. Muthukumar  ரப்பப்பபா… ரபிப்பா… ரப்பப்பா… ரபிப்பா…\\r\\nரப்ப..."
            ]
          },
          "metadata": {
            "tags": []
          },
          "execution_count": 4
        }
      ]
    },
    {
      "cell_type": "code",
      "metadata": {
        "id": "gkTiAA5663zz",
        "colab_type": "code",
        "outputId": "94ba1772-0f71-42ff-a007-ea0b7bcf7960",
        "colab": {
          "base_uri": "https://localhost:8080/",
          "height": 204
        }
      },
      "source": [
        "df.Lyricist.value_counts().head(10)"
      ],
      "execution_count": 5,
      "outputs": [
        {
          "output_type": "execute_result",
          "data": {
            "text/plain": [
              "Vairamuthu        542\n",
              "Vaali             487\n",
              "Kannadasan        290\n",
              "Na. Muthukumar    265\n",
              "Madhan Karky      136\n",
              "Pa. Vijay         135\n",
              "Yugabharathi      130\n",
              "Thamarai           87\n",
              "Viveka             74\n",
              "Gangai Amaran      69\n",
              "Name: Lyricist, dtype: int64"
            ]
          },
          "metadata": {
            "tags": []
          },
          "execution_count": 5
        }
      ]
    },
    {
      "cell_type": "markdown",
      "metadata": {
        "id": "WYkbNuWMGd4T",
        "colab_type": "text"
      },
      "source": [
        "## Data Preparation"
      ]
    },
    {
      "cell_type": "code",
      "metadata": {
        "id": "s8YYWwCSGcpf",
        "colab_type": "code",
        "colab": {}
      },
      "source": [
        "# Importing the libraries\n",
        "import tensorflow as tf\n",
        "import numpy as np\n",
        "import os\n",
        "import time"
      ],
      "execution_count": 0,
      "outputs": []
    },
    {
      "cell_type": "code",
      "metadata": {
        "id": "MPFSSVeaZgOp",
        "colab_type": "code",
        "colab": {}
      },
      "source": [
        "%%capture\n",
        "! pip install tensorflowjs"
      ],
      "execution_count": 0,
      "outputs": []
    },
    {
      "cell_type": "code",
      "metadata": {
        "id": "9n9VgTsibfm3",
        "colab_type": "code",
        "colab": {}
      },
      "source": [
        "import json\n",
        "import tensorflowjs as tfjs"
      ],
      "execution_count": 0,
      "outputs": []
    },
    {
      "cell_type": "markdown",
      "metadata": {
        "id": "5izZtUNKx2Jq",
        "colab_type": "text"
      },
      "source": [
        "### Let's create a model for top 3 lyricists"
      ]
    },
    {
      "cell_type": "markdown",
      "metadata": {
        "id": "onsz4vtLyEhy",
        "colab_type": "text"
      },
      "source": [
        "Check for duplicates lyricist names and remove them if any"
      ]
    },
    {
      "cell_type": "code",
      "metadata": {
        "id": "3pyT9cq_Cn5g",
        "colab_type": "code",
        "colab": {}
      },
      "source": [
        "df.Lyricist = df.Lyricist.apply(lambda row: str(row).lower())"
      ],
      "execution_count": 0,
      "outputs": []
    },
    {
      "cell_type": "markdown",
      "metadata": {
        "id": "kQNcyBILzTlY",
        "colab_type": "text"
      },
      "source": [
        "**Vairamuthu**"
      ]
    },
    {
      "cell_type": "code",
      "metadata": {
        "id": "vKUdMzDgyoNM",
        "colab_type": "code",
        "outputId": "702339cc-70a4-482c-9c73-1ed950e2dc74",
        "colab": {
          "base_uri": "https://localhost:8080/",
          "height": 0
        }
      },
      "source": [
        "variamuthu_df = df[df.Lyricist.str.contains(\"vairamuthu\")]\n",
        "print(\"Total songs in dataset for Variamuthu: \", len(variamuthu_df))"
      ],
      "execution_count": 10,
      "outputs": [
        {
          "output_type": "stream",
          "text": [
            "Total songs in dataset for Variamuthu:  542\n"
          ],
          "name": "stdout"
        }
      ]
    },
    {
      "cell_type": "markdown",
      "metadata": {
        "id": "dkFVa7NqzcLq",
        "colab_type": "text"
      },
      "source": [
        "**Vaali**"
      ]
    },
    {
      "cell_type": "code",
      "metadata": {
        "id": "c2UDUWq84QyZ",
        "colab_type": "code",
        "outputId": "85624788-26b7-4e52-c3b4-096c565da1ce",
        "colab": {
          "base_uri": "https://localhost:8080/",
          "height": 0
        }
      },
      "source": [
        "vaali_df = df[df.Lyricist.str.contains(\"vaali\")]\n",
        "print(\"Total songs in dataset for Variamuthu: \", len(vaali_df))"
      ],
      "execution_count": 11,
      "outputs": [
        {
          "output_type": "stream",
          "text": [
            "Total songs in dataset for Variamuthu:  493\n"
          ],
          "name": "stdout"
        }
      ]
    },
    {
      "cell_type": "markdown",
      "metadata": {
        "id": "AaNPr4v51TQw",
        "colab_type": "text"
      },
      "source": [
        "**Kannadasan**"
      ]
    },
    {
      "cell_type": "code",
      "metadata": {
        "id": "ddxDu2Pt04c4",
        "colab_type": "code",
        "outputId": "7aceaf31-8a80-479e-a8b5-13d3cb9c3090",
        "colab": {
          "base_uri": "https://localhost:8080/",
          "height": 0
        }
      },
      "source": [
        "kannadasan_df = df[df.Lyricist.str.contains(\"kannadasan\")]\n",
        "print(\"Total songs in dataset for Variamuthu: \", len(kannadasan_df))"
      ],
      "execution_count": 12,
      "outputs": [
        {
          "output_type": "stream",
          "text": [
            "Total songs in dataset for Variamuthu:  290\n"
          ],
          "name": "stdout"
        }
      ]
    },
    {
      "cell_type": "markdown",
      "metadata": {
        "id": "xneZ4FA_hjKI",
        "colab_type": "text"
      },
      "source": [
        "## Words Collection"
      ]
    },
    {
      "cell_type": "code",
      "metadata": {
        "id": "M4lhVFLEdocq",
        "colab_type": "code",
        "colab": {}
      },
      "source": [
        "import nltk\n",
        "from nltk.util import ngrams"
      ],
      "execution_count": 0,
      "outputs": []
    },
    {
      "cell_type": "code",
      "metadata": {
        "id": "QwxmpVRPeE9d",
        "colab_type": "code",
        "colab": {
          "base_uri": "https://localhost:8080/",
          "height": 68
        },
        "outputId": "55c3b598-860e-4b85-b3cf-51e592228a4a"
      },
      "source": [
        "nltk.download('punkt')"
      ],
      "execution_count": 14,
      "outputs": [
        {
          "output_type": "stream",
          "text": [
            "[nltk_data] Downloading package punkt to /root/nltk_data...\n",
            "[nltk_data]   Unzipping tokenizers/punkt.zip.\n"
          ],
          "name": "stdout"
        },
        {
          "output_type": "execute_result",
          "data": {
            "text/plain": [
              "True"
            ]
          },
          "metadata": {
            "tags": []
          },
          "execution_count": 14
        }
      ]
    },
    {
      "cell_type": "code",
      "metadata": {
        "id": "9qt2dhQmZiZY",
        "colab_type": "code",
        "colab": {
          "base_uri": "https://localhost:8080/",
          "height": 68
        },
        "outputId": "d126be89-4c21-4b44-cf17-541c85e17488"
      },
      "source": [
        "def word_collection(song_lyric, ngram_pair=(1,)):\n",
        "    words = []\n",
        "    for sentence in song_lyric.split(\"\\n\"):\n",
        "        tokens = nltk.word_tokenize(sentence) #[ t for t in sentence.strip().split() if len(t)!=0]\n",
        "        if 1 in ngram_pair:\n",
        "            words.extend(tokens)\n",
        "        if 2 in ngram_pair:\n",
        "            bigrams = [ \" \".join(bigram) for bigram in ngrams(tokens, 2)]\n",
        "            words.extend(bigrams)\n",
        "    return words\n",
        "#Test\n",
        "abc=\"\"\"\n",
        "+யாரோ யார் இவன்\n",
        "யாரோ யார் இவன்\n",
        "\"\"\"\n",
        "out = word_collection(abc,(2,))\n",
        "print(out)"
      ],
      "execution_count": 15,
      "outputs": [
        {
          "output_type": "stream",
          "text": [
            "['+யாரோ யார்', 'யார் இவன்', 'யாரோ யார்', 'யார் இவன்']\n"
          ],
          "name": "stdout"
        },
        {
          "output_type": "stream",
          "text": [
            "/usr/local/lib/python3.6/dist-packages/ipykernel_launcher.py:8: DeprecationWarning: generator 'ngrams' raised StopIteration\n",
            "  \n"
          ],
          "name": "stderr"
        }
      ]
    },
    {
      "cell_type": "code",
      "metadata": {
        "id": "s4cnCxE3hhdK",
        "colab_type": "code",
        "outputId": "b5b7c966-eb7b-484c-b02b-bd08e6e4713f",
        "colab": {
          "base_uri": "https://localhost:8080/",
          "height": 51
        }
      },
      "source": [
        "WORDS_COLLECTION = []\n",
        "for lyric in df.Lyrics.tolist():\n",
        "    words = word_collection(lyric,(1,2))\n",
        "    WORDS_COLLECTION.extend(words)\n"
      ],
      "execution_count": 16,
      "outputs": [
        {
          "output_type": "stream",
          "text": [
            "/usr/local/lib/python3.6/dist-packages/ipykernel_launcher.py:8: DeprecationWarning: generator 'ngrams' raised StopIteration\n",
            "  \n"
          ],
          "name": "stderr"
        }
      ]
    },
    {
      "cell_type": "code",
      "metadata": {
        "id": "TlJh2SnZldWm",
        "colab_type": "code",
        "colab": {
          "base_uri": "https://localhost:8080/",
          "height": 34
        },
        "outputId": "5b02f794-a98b-4c9f-9cf8-45704e3bee7e"
      },
      "source": [
        "print(\"Total words with Unigram & Bigram: \",len(WORDS_COLLECTION))"
      ],
      "execution_count": 17,
      "outputs": [
        {
          "output_type": "stream",
          "text": [
            "Total words with Unigram & Bigram:  1288975\n"
          ],
          "name": "stdout"
        }
      ]
    },
    {
      "cell_type": "code",
      "metadata": {
        "id": "AAY4sbDubgUx",
        "colab_type": "code",
        "colab": {
          "base_uri": "https://localhost:8080/",
          "height": 187
        },
        "outputId": "8b9d7a68-409f-47db-b35c-90568e250f6f"
      },
      "source": [
        "WORDS_COLLECTION[:10]"
      ],
      "execution_count": 18,
      "outputs": [
        {
          "output_type": "execute_result",
          "data": {
            "text/plain": [
              "['கடலினில்',\n",
              " 'மீனாக',\n",
              " 'இருந்தவள்',\n",
              " 'நான்',\n",
              " 'கடலினில் மீனாக',\n",
              " 'மீனாக இருந்தவள்',\n",
              " 'இருந்தவள் நான்',\n",
              " 'உனக்கென',\n",
              " 'கரை',\n",
              " 'தாண்டி']"
            ]
          },
          "metadata": {
            "tags": []
          },
          "execution_count": 18
        }
      ]
    },
    {
      "cell_type": "markdown",
      "metadata": {
        "id": "UneEFS66hqUG",
        "colab_type": "text"
      },
      "source": [
        "## Model Creation"
      ]
    },
    {
      "cell_type": "markdown",
      "metadata": {
        "id": "NjxBrxzWl1A0",
        "colab_type": "text"
      },
      "source": [
        "### Evaluation"
      ]
    },
    {
      "cell_type": "code",
      "metadata": {
        "id": "7jry4ik7lzdP",
        "colab_type": "code",
        "colab": {}
      },
      "source": [
        "def generate_text(model, char2idx, idx2char, start_string, temperature=1.0, num_generate = 500):\n",
        "  # Evaluation step (generating text using the learned model)\n",
        "\n",
        "  # Converting our start string to numbers (vectorizing)\n",
        "  input_eval = [char2idx[s] for s in start_string]\n",
        "  input_eval = tf.expand_dims(input_eval, 0)\n",
        "\n",
        "  # Empty string to store our results\n",
        "  text_generated = []\n",
        "\n",
        "  # Low temperatures results in more predictable text.\n",
        "  # Higher temperatures results in more surprising text.\n",
        "  # Experiment to find the best setting.\n",
        "  temperature = temperature\n",
        "\n",
        "  # Here batch size == 1\n",
        "  model.reset_states()\n",
        "  for i in range(num_generate):\n",
        "      predictions = model(input_eval)\n",
        "      # remove the batch dimension\n",
        "      predictions = tf.squeeze(predictions, 0)\n",
        "      # using a categorical distribution to predict the character returned by the model\n",
        "      predictions = predictions / temperature \n",
        "      cat_dist_predicted_id = tf.random.categorical(predictions, num_samples=1)[-1,0].numpy()\n",
        "      # We pass the predicted character as the next input to the model\n",
        "      # along with the previous hidden state\n",
        "      input_eval = tf.expand_dims([cat_dist_predicted_id], 0)\n",
        "      character_generated = idx2char[cat_dist_predicted_id]\n",
        "      text_generated.append(character_generated)\n",
        "      \n",
        "  return (start_string + ''.join(text_generated))"
      ],
      "execution_count": 0,
      "outputs": []
    },
    {
      "cell_type": "code",
      "metadata": {
        "id": "RA8m3uM9m5VD",
        "colab_type": "code",
        "colab": {}
      },
      "source": [
        "def get_score(generated_text, ngram_value, words_collection):\n",
        "    total_matched_words = 0\n",
        "    unmatched_words= []\n",
        "    gen_words = word_collection(generated_text, ngram_value)\n",
        "    for word in gen_words:\n",
        "        if word in words_collection:\n",
        "            total_matched_words+=1\n",
        "        else:\n",
        "            unmatched_words.append(word)    \n",
        "    score = round(total_matched_words/len(gen_words),3)\n",
        "    return score, unmatched_words\n",
        "\n",
        "def evaluate_single_song(generated_text, words_collection =WORDS_COLLECTION):\n",
        "    uni_score, uni_unmatched_words = get_score(generated_text, (1,), words_collection)\n",
        "    bi_score, bi_unmatched_words = get_score(generated_text, (2,), words_collection)\n",
        "    unmatched_words = uni_unmatched_words + bi_unmatched_words\n",
        "    return uni_score,bi_score, unmatched_words\n",
        "\n",
        "def evaluate_model(model, model_name, char2idx, idx2char, debug=False):\n",
        "    diveristy_values = [i for i in np.arange(0.1, 1, 0.1)]\n",
        "    uni_score_col = []\n",
        "    bi_score_col = []\n",
        "    generated_texts_col = []\n",
        "    unmatched_words_col = []\n",
        "    for diversity in diveristy_values:\n",
        "        generated_text = generate_text(model, char2idx, idx2char, \"யாரோ\", diversity)\n",
        "        uni_score, bi_score, unmatched_words = evaluate_single_song(generated_text)\n",
        "        uni_score_col.append(uni_score)\n",
        "        bi_score_col.append(bi_score)\n",
        "        generated_texts_col.append(generated_text)\n",
        "        unmatched_words_col.append(unmatched_words)\n",
        "        if debug:\n",
        "            print(\"Model \"+model_name+\" - Diversity \"+str(diversity)+\" - Uni score \"+str(uni_score)+\" - Bi score \"+str(bi_score))\n",
        "    return pd.DataFrame(\n",
        "        {\n",
        "            model_name+\"_uni_score\":uni_score_col, \n",
        "            model_name+\"_bi_score\":bi_score_col,\n",
        "            model_name+\"_generated_lyric\":generated_texts_col,\n",
        "            model_name+\"_unmatched_words\":unmatched_words_col\n",
        "         }\n",
        "         )"
      ],
      "execution_count": 0,
      "outputs": []
    },
    {
      "cell_type": "code",
      "metadata": {
        "id": "tcN9v9cPrzXt",
        "colab_type": "code",
        "colab": {
          "base_uri": "https://localhost:8080/",
          "height": 68
        },
        "outputId": "497a8c0d-b8d7-4e38-9c04-7dcbe3f0286e"
      },
      "source": [
        "# Sample Evaluation\n",
        "abc=\"\"\"\n",
        "+யாரோ யார் இவன்\n",
        "யாரோ யார் இவன்\n",
        "\n",
        "தாயின் க\n",
        "தானாய் உதித்தவன்\n",
        "\"\"\"\n",
        "uni_score, bi_score, unmatched_words = evaluate_single_song(abc, WORDS_COLLECTION)\n",
        "print(uni_score, bi_score, unmatched_words)"
      ],
      "execution_count": 21,
      "outputs": [
        {
          "output_type": "stream",
          "text": [
            "0.9 0.667 ['+யாரோ', '+யாரோ யார்', 'தாயின் க']\n"
          ],
          "name": "stdout"
        },
        {
          "output_type": "stream",
          "text": [
            "/usr/local/lib/python3.6/dist-packages/ipykernel_launcher.py:8: DeprecationWarning: generator 'ngrams' raised StopIteration\n",
            "  \n"
          ],
          "name": "stderr"
        }
      ]
    },
    {
      "cell_type": "markdown",
      "metadata": {
        "id": "G-A65G8H3tQO",
        "colab_type": "text"
      },
      "source": [
        "### Model Design"
      ]
    },
    {
      "cell_type": "code",
      "metadata": {
        "id": "Mv5t5zJjN8Se",
        "colab_type": "code",
        "colab": {}
      },
      "source": [
        "def build_model(vocab_size, embedding_dim, rnn_units, batch_size):\n",
        "  model = tf.keras.Sequential([\n",
        "    tf.keras.layers.Embedding(vocab_size, embedding_dim,\n",
        "                              batch_input_shape=[batch_size, None]),\n",
        "    tf.keras.layers.LSTM(rnn_units,\n",
        "                        return_sequences=True,\n",
        "                        stateful=True,\n",
        "                        recurrent_initializer='glorot_uniform'),\n",
        "    tf.keras.layers.LSTM(rnn_units,\n",
        "                        return_sequences=True,\n",
        "                        stateful=True,\n",
        "                        recurrent_initializer='glorot_uniform'),\n",
        "    tf.keras.layers.Dense(vocab_size)\n",
        "  ])\n",
        "  return model"
      ],
      "execution_count": 0,
      "outputs": []
    },
    {
      "cell_type": "code",
      "metadata": {
        "id": "0uiIFkImYscM",
        "colab_type": "code",
        "colab": {}
      },
      "source": [
        "def loss(labels, logits):\n",
        "  return tf.keras.losses.sparse_categorical_crossentropy(labels, logits, from_logits=True)\n"
      ],
      "execution_count": 0,
      "outputs": []
    },
    {
      "cell_type": "code",
      "metadata": {
        "id": "rsoVMULW5CNY",
        "colab_type": "code",
        "colab": {}
      },
      "source": [
        "def create_model(model_name, df, path_to_save_model, callbacks, build_model_func, checkpoint_dir, EPOCHS=30):\n",
        "    print(\"Creating Model: \", model_name)\n",
        "    print(\"-------------------------------\")\n",
        "    # Concatenating the strings\n",
        "    text = \" \".join([ song.strip() for song in df.Lyrics])\n",
        "    print(\"Total songs combined : {}\".format(len(df.Lyrics)))\n",
        "    print()\n",
        "    print ('Length of text: {} characters'.format(len(text)))\n",
        "    print(\"Sample Text: \")\n",
        "    print()\n",
        "    print(text[:250])\n",
        "    print()\n",
        "    vocab = sorted(set(text))\n",
        "    print ('{} unique characters'.format(len(vocab)))\n",
        "\n",
        "    # Creating a mapping from unique characters to indices\n",
        "    char2idx = {u:i for i, u in enumerate(vocab)}\n",
        "    idx2char = np.array(vocab)\n",
        "\n",
        "    text_as_int = np.array([char2idx[c] for c in text])\n",
        "\n",
        "    # The maximum length sentence we want for a single input in characters\n",
        "    seq_length = 100\n",
        "    examples_per_epoch = len(text)//(seq_length+1)\n",
        "\n",
        "    # Create training examples / targets\n",
        "    char_dataset = tf.data.Dataset.from_tensor_slices(text_as_int)\n",
        "    \n",
        "    sequences = char_dataset.batch(seq_length+1, drop_remainder=True)\n",
        "\n",
        "    def split_input_target(chunk):\n",
        "        input_text = chunk[:-1]\n",
        "        target_text = chunk[1:]\n",
        "        return input_text, target_text\n",
        "\n",
        "    dataset = sequences.map(split_input_target)\n",
        "    print()\n",
        "    for input_example, target_example in  dataset.take(5):\n",
        "        print ('Input data: ', repr(''.join(idx2char[input_example.numpy()])))\n",
        "        print ('Target data:', repr(''.join(idx2char[target_example.numpy()])))\n",
        "    print()\n",
        "    # Batch size\n",
        "    BATCH_SIZE = 64\n",
        "\n",
        "    # Buffer size to shuffle the dataset\n",
        "    # (TF data is designed to work with possibly infinite sequences,\n",
        "    # so it doesn't attempt to shuffle the entire sequence in memory. Instead,\n",
        "    # it maintains a buffer in which it shuffles elements).\n",
        "    BUFFER_SIZE = 10000\n",
        "\n",
        "    dataset = dataset.shuffle(BUFFER_SIZE).batch(BATCH_SIZE, drop_remainder=True)\n",
        "    print(dataset)\n",
        "\n",
        "    # Length of the vocabulary in chars\n",
        "    vocab_size = len(vocab)\n",
        "\n",
        "    # The embedding dimension\n",
        "    embedding_dim = 256\n",
        "\n",
        "    # Number of RNN units\n",
        "    rnn_units = 1024\n",
        "\n",
        "    model = build_model_func(vocab_size, embedding_dim, rnn_units, BATCH_SIZE)\n",
        "    model.compile(optimizer='adam', loss=loss)\n",
        "    \n",
        "    for input_example_batch, target_example_batch in dataset.take(1):\n",
        "        example_batch_predictions = model(input_example_batch)\n",
        "        print(example_batch_predictions.shape, \"# (batch_size, sequence_length, vocab_size)\")    \n",
        "    \n",
        "    history = model.fit(dataset, epochs=EPOCHS, callbacks=callbacks)\n",
        "    \n",
        "    char2idx_str = json.dumps(char2idx)\n",
        "    \n",
        "    tfjs.converters.save_keras_model(model, path_to_save_model)\n",
        "    \n",
        "    with open(path_to_save_model+\"char_idx_converter.js\",\"w\") as f:\n",
        "        f.write(\"var char2idx =\"+ str(char2idx)+\"; \\n var idx2char = \"+str(idx2char.tolist()))\n",
        "    \n",
        "    tf.train.latest_checkpoint(checkpoint_dir)\n",
        "    test_model = build_model(vocab_size, embedding_dim, rnn_units, batch_size=1)\n",
        "    test_model.load_weights(tf.train.latest_checkpoint(checkpoint_dir))\n",
        "    test_model.build(tf.TensorShape([1, None]))\n",
        "    \n",
        "    return model, test_model, char2idx, idx2char"
      ],
      "execution_count": 0,
      "outputs": []
    },
    {
      "cell_type": "code",
      "metadata": {
        "id": "8LZgbHaxdpuW",
        "colab_type": "code",
        "colab": {}
      },
      "source": [
        "def get_callbacks(checkpoint_dir):\n",
        "    # Name of the checkpoint files\n",
        "    checkpoint_prefix = os.path.join(checkpoint_dir, \"ckpt_{epoch}\")\n",
        "\n",
        "    checkpoint_callback=tf.keras.callbacks.ModelCheckpoint(\n",
        "    filepath=checkpoint_prefix,\n",
        "    save_weights_only=True,\n",
        "    save_best_only=True,\n",
        "    monitor='loss'\n",
        "    )\n",
        "    return [checkpoint_callback]"
      ],
      "execution_count": 0,
      "outputs": []
    },
    {
      "cell_type": "markdown",
      "metadata": {
        "id": "cmWgv1pNS9P0",
        "colab_type": "text"
      },
      "source": [
        "## Model Per Lyricists"
      ]
    },
    {
      "cell_type": "code",
      "metadata": {
        "id": "gCVC_a3QW3aX",
        "colab_type": "code",
        "colab": {}
      },
      "source": [
        "def create_model_for(model_name, data_df):\n",
        "    path_to_store = \"./drive/My Drive/ColabDatasets/trained_models_v2/\"+model_name+'/'\n",
        "    checkpoint_dir = './'+model_name+'/training_checkpoints'\n",
        "\n",
        "    model, test_model, char2idx, idx2char = create_model(\n",
        "        model_name, \n",
        "        data_df, \n",
        "        path_to_store, \n",
        "        get_callbacks(checkpoint_dir),\n",
        "        build_model,\n",
        "        checkpoint_dir)\n",
        "    results_df = evaluate_model(test_model, model_name, char2idx, idx2char, debug=True)\n",
        "    results_df.to_csv(path_to_store+\"result.csv\")\n",
        "    return results_df"
      ],
      "execution_count": 0,
      "outputs": []
    },
    {
      "cell_type": "code",
      "metadata": {
        "id": "5hCmwndQnq-d",
        "colab_type": "code",
        "colab": {
          "base_uri": "https://localhost:8080/",
          "height": 1000
        },
        "outputId": "b84eaae2-d031-47d1-8ef1-33407750a3ab"
      },
      "source": [
        "results_vairamuthu = create_model_for(\"vairamuthu_songs\", variamuthu_df)\n",
        "results_vairamuthu"
      ],
      "execution_count": 27,
      "outputs": [
        {
          "output_type": "stream",
          "text": [
            "Creating Model:  vairamuthu_songs\n",
            "-------------------------------\n",
            "Total songs combined : 542\n",
            "\n",
            "Length of text: 749212 characters\n",
            "Sample Text: \n",
            "\n",
            "சிக்கு புக்கு சிக்கு புக்கு ரயிலே அட கலக்குது பார் இவ ஸ்டைலு\r\n",
            "சிக்குவாளா சிக்குவாளா மயிலு இவ ஓக்கேன்னா அடி தூளு\r\n",
            "\r\n",
            "சிக்கு புக்கு சிக்கு புக்கு ரயிலே அட கலக்குது பார் இவ ஸ்டைலு\r\n",
            "சிக்குவாளா சிக்குவாளா மயிலு இவ ஓக்கேன்னா அடி தூளு\r\n",
            "\r\n",
            "சின்ன பொண்ணிவ படிப்ப\n",
            "\n",
            "133 unique characters\n",
            "\n",
            "Input data:  'சிக்கு புக்கு சிக்கு புக்கு ரயிலே அட கலக்குது பார் இவ ஸ்டைலு\\r\\nசிக்குவாளா சிக்குவாளா மயிலு இவ ஓக்கேன்'\n",
            "Target data: 'ிக்கு புக்கு சிக்கு புக்கு ரயிலே அட கலக்குது பார் இவ ஸ்டைலு\\r\\nசிக்குவாளா சிக்குவாளா மயிலு இவ ஓக்கேன்ன'\n",
            "Input data:  'ா அடி தூளு\\r\\n\\r\\nசிக்கு புக்கு சிக்கு புக்கு ரயிலே அட கலக்குது பார் இவ ஸ்டைலு\\r\\nசிக்குவாளா சிக்குவாளா மய'\n",
            "Target data: ' அடி தூளு\\r\\n\\r\\nசிக்கு புக்கு சிக்கு புக்கு ரயிலே அட கலக்குது பார் இவ ஸ்டைலு\\r\\nசிக்குவாளா சிக்குவாளா மயி'\n",
            "Input data:  'லு இவ ஓக்கேன்னா அடி தூளு\\r\\n\\r\\nசின்ன பொண்ணிவ படிப்பது\\xa0எத்திராஜா\\xa0மனசையெல்லாம் சலவை செய்யும்\\r\\nசொட்டு நீலம'\n",
            "Target data: 'ு இவ ஓக்கேன்னா அடி தூளு\\r\\n\\r\\nசின்ன பொண்ணிவ படிப்பது\\xa0எத்திராஜா\\xa0மனசையெல்லாம் சலவை செய்யும்\\r\\nசொட்டு நீலமி'\n",
            "Input data:  'வ பார்வையில் உருவாச்சா வயசு பசங்களை விழியில புடிச்சா\\r\\n\\r\\nசிக்கு புக்கு சிக்கு புக்கு ரயிலே அட கலக்குத'\n",
            "Target data: ' பார்வையில் உருவாச்சா வயசு பசங்களை விழியில புடிச்சா\\r\\n\\r\\nசிக்கு புக்கு சிக்கு புக்கு ரயிலே அட கலக்குது'\n",
            "Input data:  ' பார் இவ ஸ்டைலு\\r\\nசிக்குவாளா சிக்குவாளா மயிலு இவ ஓக்கேன்னா அடி தூளு\\r\\n\\r\\nநாங்க சைக்கிள் ஏறியே வந்தாக்கா'\n",
            "Target data: 'பார் இவ ஸ்டைலு\\r\\nசிக்குவாளா சிக்குவாளா மயிலு இவ ஓக்கேன்னா அடி தூளு\\r\\n\\r\\nநாங்க சைக்கிள் ஏறியே வந்தாக்கா '\n",
            "\n",
            "<BatchDataset shapes: ((64, 100), (64, 100)), types: (tf.int64, tf.int64)>\n",
            "(64, 100, 133) # (batch_size, sequence_length, vocab_size)\n",
            "Epoch 1/30\n",
            "115/115 [==============================] - 13s 114ms/step - loss: 2.9033\n",
            "Epoch 2/30\n",
            "115/115 [==============================] - 13s 114ms/step - loss: 2.0698\n",
            "Epoch 3/30\n",
            "115/115 [==============================] - 13s 113ms/step - loss: 1.8162\n",
            "Epoch 4/30\n",
            "115/115 [==============================] - 13s 114ms/step - loss: 1.6553\n",
            "Epoch 5/30\n",
            "115/115 [==============================] - 13s 114ms/step - loss: 1.5294\n",
            "Epoch 6/30\n",
            "115/115 [==============================] - 13s 113ms/step - loss: 1.4190\n",
            "Epoch 7/30\n",
            "115/115 [==============================] - 13s 113ms/step - loss: 1.3171\n",
            "Epoch 8/30\n",
            "115/115 [==============================] - 13s 113ms/step - loss: 1.2145\n",
            "Epoch 9/30\n",
            "115/115 [==============================] - 13s 114ms/step - loss: 1.1140\n",
            "Epoch 10/30\n",
            "115/115 [==============================] - 13s 114ms/step - loss: 1.0150\n",
            "Epoch 11/30\n",
            "115/115 [==============================] - 13s 113ms/step - loss: 0.9186\n",
            "Epoch 12/30\n",
            "115/115 [==============================] - 13s 113ms/step - loss: 0.8277\n",
            "Epoch 13/30\n",
            "115/115 [==============================] - 13s 114ms/step - loss: 0.7432\n",
            "Epoch 14/30\n",
            "115/115 [==============================] - 13s 114ms/step - loss: 0.6655\n",
            "Epoch 15/30\n",
            "115/115 [==============================] - 13s 114ms/step - loss: 0.6003\n",
            "Epoch 16/30\n",
            "115/115 [==============================] - 13s 113ms/step - loss: 0.5389\n",
            "Epoch 17/30\n",
            "115/115 [==============================] - 13s 113ms/step - loss: 0.4852\n",
            "Epoch 18/30\n",
            "115/115 [==============================] - 13s 114ms/step - loss: 0.4433\n",
            "Epoch 19/30\n",
            "115/115 [==============================] - 13s 114ms/step - loss: 0.4073\n",
            "Epoch 20/30\n",
            "115/115 [==============================] - 13s 113ms/step - loss: 0.3806\n",
            "Epoch 21/30\n",
            "115/115 [==============================] - 13s 113ms/step - loss: 0.3570\n",
            "Epoch 22/30\n",
            "115/115 [==============================] - 13s 113ms/step - loss: 0.3383\n",
            "Epoch 23/30\n",
            "115/115 [==============================] - 13s 114ms/step - loss: 0.3252\n",
            "Epoch 24/30\n",
            "115/115 [==============================] - 13s 114ms/step - loss: 0.3103\n",
            "Epoch 25/30\n",
            "115/115 [==============================] - 13s 113ms/step - loss: 0.3012\n",
            "Epoch 26/30\n",
            "115/115 [==============================] - 13s 113ms/step - loss: 0.2923\n",
            "Epoch 27/30\n",
            "115/115 [==============================] - 13s 113ms/step - loss: 0.2859\n",
            "Epoch 28/30\n",
            "115/115 [==============================] - 13s 114ms/step - loss: 0.2791\n",
            "Epoch 29/30\n",
            "115/115 [==============================] - 13s 113ms/step - loss: 0.2728\n",
            "Epoch 30/30\n",
            "115/115 [==============================] - 13s 114ms/step - loss: 0.2675\n"
          ],
          "name": "stdout"
        },
        {
          "output_type": "stream",
          "text": [
            "/usr/local/lib/python3.6/dist-packages/tensorflowjs/converters/keras_h5_conversion.py:122: H5pyDeprecationWarning: The default file mode will change to 'r' (read-only) in h5py 3.0. To suppress this warning, pass the mode you need to h5py.File(), or set the global default h5.get_config().default_file_mode, or set the environment variable H5PY_DEFAULT_READONLY=1. Available modes are: 'r', 'r+', 'w', 'w-'/'x', 'a'. See the docs for details.\n",
            "  return h5py.File(h5file)\n",
            "/usr/local/lib/python3.6/dist-packages/ipykernel_launcher.py:8: DeprecationWarning: generator 'ngrams' raised StopIteration\n",
            "  \n"
          ],
          "name": "stderr"
        },
        {
          "output_type": "stream",
          "text": [
            "Model vairamuthu_songs - Diversity 0.1 - Uni score 1.0 - Bi score 0.907\n",
            "Model vairamuthu_songs - Diversity 0.2 - Uni score 0.956 - Bi score 0.808\n",
            "Model vairamuthu_songs - Diversity 0.30000000000000004 - Uni score 1.0 - Bi score 0.86\n",
            "Model vairamuthu_songs - Diversity 0.4 - Uni score 0.957 - Bi score 0.833\n",
            "Model vairamuthu_songs - Diversity 0.5 - Uni score 0.946 - Bi score 0.764\n",
            "Model vairamuthu_songs - Diversity 0.6 - Uni score 0.972 - Bi score 0.868\n",
            "Model vairamuthu_songs - Diversity 0.7000000000000001 - Uni score 0.973 - Bi score 0.661\n",
            "Model vairamuthu_songs - Diversity 0.8 - Uni score 0.952 - Bi score 0.826\n",
            "Model vairamuthu_songs - Diversity 0.9 - Uni score 0.91 - Bi score 0.607\n"
          ],
          "name": "stdout"
        },
        {
          "output_type": "execute_result",
          "data": {
            "text/html": [
              "<div>\n",
              "<style scoped>\n",
              "    .dataframe tbody tr th:only-of-type {\n",
              "        vertical-align: middle;\n",
              "    }\n",
              "\n",
              "    .dataframe tbody tr th {\n",
              "        vertical-align: top;\n",
              "    }\n",
              "\n",
              "    .dataframe thead th {\n",
              "        text-align: right;\n",
              "    }\n",
              "</style>\n",
              "<table border=\"1\" class=\"dataframe\">\n",
              "  <thead>\n",
              "    <tr style=\"text-align: right;\">\n",
              "      <th></th>\n",
              "      <th>vairamuthu_songs_uni_score</th>\n",
              "      <th>vairamuthu_songs_bi_score</th>\n",
              "      <th>vairamuthu_songs_generated_lyric</th>\n",
              "      <th>vairamuthu_songs_unmatched_words</th>\n",
              "    </tr>\n",
              "  </thead>\n",
              "  <tbody>\n",
              "    <tr>\n",
              "      <th>0</th>\n",
              "      <td>1.000</td>\n",
              "      <td>0.907</td>\n",
              "      <td>யாரோ\\r\\nஅலை வந்தாயே செந்தேனே...\\r\\n\\r\\nபார்க்க...</td>\n",
              "      <td>[அலை வந்தாயே, தள்ளாதே உள்ளத்தை, கிளியே நிலவு, ...</td>\n",
              "    </tr>\n",
              "    <tr>\n",
              "      <th>1</th>\n",
              "      <td>0.956</td>\n",
              "      <td>0.808</td>\n",
              "      <td>யாரோ\\r\\nஅலை வந்தாயே செந்தேனே...\\r\\n\\r\\nபார்க்க...</td>\n",
              "      <td>[பிண்டேனே, கொல்லுக்கு, கவியாய்ச, அலை வந்தாயே,...</td>\n",
              "    </tr>\n",
              "    <tr>\n",
              "      <th>2</th>\n",
              "      <td>1.000</td>\n",
              "      <td>0.860</td>\n",
              "      <td>யாரோ\\r\\nஅலை போல் எங்கும் மிதப்பேன்\\r\\n\\r\\nமார்...</td>\n",
              "      <td>[போல் எங்கும், குட்டி தானே, தானே ஒரு, ஒரு கேளட...</td>\n",
              "    </tr>\n",
              "    <tr>\n",
              "      <th>3</th>\n",
              "      <td>0.957</td>\n",
              "      <td>0.833</td>\n",
              "      <td>யாரோ\\r\\nநம்ம ஊரும் கொஞ்சம் கூசியிலே\\r\\n\\r\\nஅலை...</td>\n",
              "      <td>[கூசியிலே, வெள்ளைப்பூவது, சிலுண்டு, கொஞ்சம் கூ...</td>\n",
              "    </tr>\n",
              "    <tr>\n",
              "      <th>4</th>\n",
              "      <td>0.946</td>\n",
              "      <td>0.764</td>\n",
              "      <td>யாரோ\\r\\nஉலக நெனைக்கிறது\\r\\nகண்களிலே பெது நெஞ்ச...</td>\n",
              "      <td>[நெனைக்கிறது, பெது, வளக்கி, பொறந்ததுன், உலக நெ...</td>\n",
              "    </tr>\n",
              "    <tr>\n",
              "      <th>5</th>\n",
              "      <td>0.972</td>\n",
              "      <td>0.868</td>\n",
              "      <td>யாரோ\\r\\nஆற்று வீசும் போது கூட வேணாங்கோ\\r\\nஊனம்...</td>\n",
              "      <td>[ஆளான், கண்கள்லை, ஆற்று வீசும், ஊர் பேர, வரிசை...</td>\n",
              "    </tr>\n",
              "    <tr>\n",
              "      <th>6</th>\n",
              "      <td>0.973</td>\n",
              "      <td>0.661</td>\n",
              "      <td>யாரோ\\r\\nஅழகே சந்திரன்கள் விழி பூட்டு கொஞ்சிடும...</td>\n",
              "      <td>[சந்திரன்கள், ஓளம், அழகே சந்திரன்கள், சந்திரன்...</td>\n",
              "    </tr>\n",
              "    <tr>\n",
              "      <th>7</th>\n",
              "      <td>0.952</td>\n",
              "      <td>0.826</td>\n",
              "      <td>யாரோ (2)\\r\\n\\r\\nமுகந்தானை என் காதலா\\r\\n\\r\\nபேர...</td>\n",
              "      <td>[முகந்தானை, பார்த்தவுடாதே, சாகயே, யாரோ (, முகந...</td>\n",
              "    </tr>\n",
              "    <tr>\n",
              "      <th>8</th>\n",
              "      <td>0.910</td>\n",
              "      <td>0.607</td>\n",
              "      <td>யாரோ\\r\\nகரிச்சா நீ வீசிக்காத\\r\\n\\r\\n(ஆண் : என்...</td>\n",
              "      <td>[கரிச்சா, வீசிக்காத, விரியால், தாலிட்டும், காந...</td>\n",
              "    </tr>\n",
              "  </tbody>\n",
              "</table>\n",
              "</div>"
            ],
            "text/plain": [
              "   vairamuthu_songs_uni_score  ...                   vairamuthu_songs_unmatched_words\n",
              "0                       1.000  ...  [அலை வந்தாயே, தள்ளாதே உள்ளத்தை, கிளியே நிலவு, ...\n",
              "1                       0.956  ...  [பிண்டேனே, கொல்லுக்கு, கவியாய்ச, அலை வந்தாயே,...\n",
              "2                       1.000  ...  [போல் எங்கும், குட்டி தானே, தானே ஒரு, ஒரு கேளட...\n",
              "3                       0.957  ...  [கூசியிலே, வெள்ளைப்பூவது, சிலுண்டு, கொஞ்சம் கூ...\n",
              "4                       0.946  ...  [நெனைக்கிறது, பெது, வளக்கி, பொறந்ததுன், உலக நெ...\n",
              "5                       0.972  ...  [ஆளான், கண்கள்லை, ஆற்று வீசும், ஊர் பேர, வரிசை...\n",
              "6                       0.973  ...  [சந்திரன்கள், ஓளம், அழகே சந்திரன்கள், சந்திரன்...\n",
              "7                       0.952  ...  [முகந்தானை, பார்த்தவுடாதே, சாகயே, யாரோ (, முகந...\n",
              "8                       0.910  ...  [கரிச்சா, வீசிக்காத, விரியால், தாலிட்டும், காந...\n",
              "\n",
              "[9 rows x 4 columns]"
            ]
          },
          "metadata": {
            "tags": []
          },
          "execution_count": 27
        }
      ]
    },
    {
      "cell_type": "code",
      "metadata": {
        "id": "3oxsjDTskzzd",
        "colab_type": "code",
        "colab": {
          "base_uri": "https://localhost:8080/",
          "height": 1000
        },
        "outputId": "cb203475-a580-4a47-ab45-68b683b3b33d"
      },
      "source": [
        "results_vaali = create_model_for(\"vaali_songs\", vaali_df)\n",
        "results_vaali"
      ],
      "execution_count": 28,
      "outputs": [
        {
          "output_type": "stream",
          "text": [
            "Creating Model:  vaali_songs\n",
            "-------------------------------\n",
            "Total songs combined : 493\n",
            "\n",
            "Length of text: 669906 characters\n",
            "Sample Text: \n",
            "\n",
            "சிரிக்கின்றாள் இன்று சிரிக்கின்றாள்\r\n",
            "சிந்திய கண்ணீர் மாறியதாலே\r\n",
            "சிரிக்கின்றாள் இன்று சிரிக்கின்றாள்\r\n",
            "சிந்திய கண்ணீர் மாறியதாலே\r\n",
            "\r\n",
            "அன்புத் திருமுகம் காணாமல் -\r\n",
            "நான்துன்பக் கடலில் நீந்தி வந்தேன்\r\n",
            "காலப் புயலில் அணையாமல் -\r\n",
            "நெஞ்சில்காதல் விளக்கை ஏந்தி வந\n",
            "\n",
            "138 unique characters\n",
            "\n",
            "Input data:  'சிரிக்கின்றாள் இன்று சிரிக்கின்றாள்\\r\\nசிந்திய கண்ணீர் மாறியதாலே\\r\\nசிரிக்கின்றாள் இன்று சிரிக்கின்றாள்\\r'\n",
            "Target data: 'ிரிக்கின்றாள் இன்று சிரிக்கின்றாள்\\r\\nசிந்திய கண்ணீர் மாறியதாலே\\r\\nசிரிக்கின்றாள் இன்று சிரிக்கின்றாள்\\r\\n'\n",
            "Input data:  'சிந்திய கண்ணீர் மாறியதாலே\\r\\n\\r\\nஅன்புத் திருமுகம் காணாமல் -\\r\\nநான்துன்பக் கடலில் நீந்தி வந்தேன்\\r\\nகாலப் ப'\n",
            "Target data: 'ிந்திய கண்ணீர் மாறியதாலே\\r\\n\\r\\nஅன்புத் திருமுகம் காணாமல் -\\r\\nநான்துன்பக் கடலில் நீந்தி வந்தேன்\\r\\nகாலப் பு'\n",
            "Input data:  'யலில் அணையாமல் -\\r\\nநெஞ்சில்காதல் விளக்கை ஏந்தி வந்தேன்\\r\\nஉதய சூரியன் எதிரில் இருக்கையில்\\r\\nஉள்ளத்தாமரை '\n",
            "Target data: 'லில் அணையாமல் -\\r\\nநெஞ்சில்காதல் விளக்கை ஏந்தி வந்தேன்\\r\\nஉதய சூரியன் எதிரில் இருக்கையில்\\r\\nஉள்ளத்தாமரை ம'\n",
            "Input data:  'லராதோ ?\\r\\nஉள்ளத்தாமரை மலராதோ ?\\r\\nஎதையும் தாங்கும் இதயம் இருந்தால்\\r\\nஇருண்ட பொழுதும் புலராதோ ?\\r\\nஇருண்ட ப'\n",
            "Target data: 'ராதோ ?\\r\\nஉள்ளத்தாமரை மலராதோ ?\\r\\nஎதையும் தாங்கும் இதயம் இருந்தால்\\r\\nஇருண்ட பொழுதும் புலராதோ ?\\r\\nஇருண்ட பொ'\n",
            "Input data:  'ழுதும் புலராதோ ?\\r\\n\\r\\nசிரிக்கின்றாள் இன்று சிரிக்கின்றாள்\\r\\nசிந்திய கண்ணீர் மாறியதாலே\\r\\n\\r\\nதேன் மலராடும் '\n",
            "Target data: 'ுதும் புலராதோ ?\\r\\n\\r\\nசிரிக்கின்றாள் இன்று சிரிக்கின்றாள்\\r\\nசிந்திய கண்ணீர் மாறியதாலே\\r\\n\\r\\nதேன் மலராடும் ம'\n",
            "\n",
            "<BatchDataset shapes: ((64, 100), (64, 100)), types: (tf.int64, tf.int64)>\n",
            "(64, 100, 138) # (batch_size, sequence_length, vocab_size)\n",
            "Epoch 1/30\n",
            "103/103 [==============================] - 12s 114ms/step - loss: 2.9406\n",
            "Epoch 2/30\n",
            "103/103 [==============================] - 12s 114ms/step - loss: 2.1068\n",
            "Epoch 3/30\n",
            "103/103 [==============================] - 12s 113ms/step - loss: 1.8618\n",
            "Epoch 4/30\n",
            "103/103 [==============================] - 12s 114ms/step - loss: 1.6981\n",
            "Epoch 5/30\n",
            "103/103 [==============================] - 12s 113ms/step - loss: 1.5777\n",
            "Epoch 6/30\n",
            "103/103 [==============================] - 12s 113ms/step - loss: 1.4721\n",
            "Epoch 7/30\n",
            "103/103 [==============================] - 12s 113ms/step - loss: 1.3715\n",
            "Epoch 8/30\n",
            "103/103 [==============================] - 12s 113ms/step - loss: 1.2721\n",
            "Epoch 9/30\n",
            "103/103 [==============================] - 12s 114ms/step - loss: 1.1721\n",
            "Epoch 10/30\n",
            "103/103 [==============================] - 12s 114ms/step - loss: 1.0743\n",
            "Epoch 11/30\n",
            "103/103 [==============================] - 12s 114ms/step - loss: 0.9765\n",
            "Epoch 12/30\n",
            "103/103 [==============================] - 12s 114ms/step - loss: 0.8827\n",
            "Epoch 13/30\n",
            "103/103 [==============================] - 12s 114ms/step - loss: 0.7975\n",
            "Epoch 14/30\n",
            "103/103 [==============================] - 12s 113ms/step - loss: 0.7147\n",
            "Epoch 15/30\n",
            "103/103 [==============================] - 12s 114ms/step - loss: 0.6445\n",
            "Epoch 16/30\n",
            "103/103 [==============================] - 12s 114ms/step - loss: 0.5809\n",
            "Epoch 17/30\n",
            "103/103 [==============================] - 12s 113ms/step - loss: 0.5252\n",
            "Epoch 18/30\n",
            "103/103 [==============================] - 12s 113ms/step - loss: 0.4772\n",
            "Epoch 19/30\n",
            "103/103 [==============================] - 12s 113ms/step - loss: 0.4374\n",
            "Epoch 20/30\n",
            "103/103 [==============================] - 12s 114ms/step - loss: 0.4050\n",
            "Epoch 21/30\n",
            "103/103 [==============================] - 12s 114ms/step - loss: 0.3778\n",
            "Epoch 22/30\n",
            "103/103 [==============================] - 12s 114ms/step - loss: 0.3554\n",
            "Epoch 23/30\n",
            "103/103 [==============================] - 12s 113ms/step - loss: 0.3363\n",
            "Epoch 24/30\n",
            "103/103 [==============================] - 12s 114ms/step - loss: 0.3217\n",
            "Epoch 25/30\n",
            "103/103 [==============================] - 12s 113ms/step - loss: 0.3080\n",
            "Epoch 26/30\n",
            "103/103 [==============================] - 12s 114ms/step - loss: 0.2979\n",
            "Epoch 27/30\n",
            "103/103 [==============================] - 12s 113ms/step - loss: 0.2887\n",
            "Epoch 28/30\n",
            "103/103 [==============================] - 12s 114ms/step - loss: 0.2818\n",
            "Epoch 29/30\n",
            "103/103 [==============================] - 12s 113ms/step - loss: 0.2754\n",
            "Epoch 30/30\n",
            "103/103 [==============================] - 12s 113ms/step - loss: 0.2683\n"
          ],
          "name": "stdout"
        },
        {
          "output_type": "stream",
          "text": [
            "/usr/local/lib/python3.6/dist-packages/tensorflowjs/converters/keras_h5_conversion.py:122: H5pyDeprecationWarning: The default file mode will change to 'r' (read-only) in h5py 3.0. To suppress this warning, pass the mode you need to h5py.File(), or set the global default h5.get_config().default_file_mode, or set the environment variable H5PY_DEFAULT_READONLY=1. Available modes are: 'r', 'r+', 'w', 'w-'/'x', 'a'. See the docs for details.\n",
            "  return h5py.File(h5file)\n"
          ],
          "name": "stderr"
        },
        {
          "output_type": "stream",
          "text": [
            "WARNING:tensorflow:Unresolved object in checkpoint: (root).optimizer\n",
            "WARNING:tensorflow:Unresolved object in checkpoint: (root).optimizer.iter\n",
            "WARNING:tensorflow:Unresolved object in checkpoint: (root).optimizer.beta_1\n",
            "WARNING:tensorflow:Unresolved object in checkpoint: (root).optimizer.beta_2\n",
            "WARNING:tensorflow:Unresolved object in checkpoint: (root).optimizer.decay\n",
            "WARNING:tensorflow:Unresolved object in checkpoint: (root).optimizer.learning_rate\n",
            "WARNING:tensorflow:Unresolved object in checkpoint: (root).optimizer's state 'm' for (root).layer_with_weights-0.embeddings\n",
            "WARNING:tensorflow:Unresolved object in checkpoint: (root).optimizer's state 'm' for (root).layer_with_weights-3.kernel\n",
            "WARNING:tensorflow:Unresolved object in checkpoint: (root).optimizer's state 'm' for (root).layer_with_weights-3.bias\n",
            "WARNING:tensorflow:Unresolved object in checkpoint: (root).optimizer's state 'm' for (root).layer_with_weights-1.cell.kernel\n",
            "WARNING:tensorflow:Unresolved object in checkpoint: (root).optimizer's state 'm' for (root).layer_with_weights-1.cell.recurrent_kernel\n",
            "WARNING:tensorflow:Unresolved object in checkpoint: (root).optimizer's state 'm' for (root).layer_with_weights-1.cell.bias\n",
            "WARNING:tensorflow:Unresolved object in checkpoint: (root).optimizer's state 'm' for (root).layer_with_weights-2.cell.kernel\n",
            "WARNING:tensorflow:Unresolved object in checkpoint: (root).optimizer's state 'm' for (root).layer_with_weights-2.cell.recurrent_kernel\n",
            "WARNING:tensorflow:Unresolved object in checkpoint: (root).optimizer's state 'm' for (root).layer_with_weights-2.cell.bias\n",
            "WARNING:tensorflow:Unresolved object in checkpoint: (root).optimizer's state 'v' for (root).layer_with_weights-0.embeddings\n",
            "WARNING:tensorflow:Unresolved object in checkpoint: (root).optimizer's state 'v' for (root).layer_with_weights-3.kernel\n",
            "WARNING:tensorflow:Unresolved object in checkpoint: (root).optimizer's state 'v' for (root).layer_with_weights-3.bias\n",
            "WARNING:tensorflow:Unresolved object in checkpoint: (root).optimizer's state 'v' for (root).layer_with_weights-1.cell.kernel\n",
            "WARNING:tensorflow:Unresolved object in checkpoint: (root).optimizer's state 'v' for (root).layer_with_weights-1.cell.recurrent_kernel\n",
            "WARNING:tensorflow:Unresolved object in checkpoint: (root).optimizer's state 'v' for (root).layer_with_weights-1.cell.bias\n",
            "WARNING:tensorflow:Unresolved object in checkpoint: (root).optimizer's state 'v' for (root).layer_with_weights-2.cell.kernel\n",
            "WARNING:tensorflow:Unresolved object in checkpoint: (root).optimizer's state 'v' for (root).layer_with_weights-2.cell.recurrent_kernel\n",
            "WARNING:tensorflow:Unresolved object in checkpoint: (root).optimizer's state 'v' for (root).layer_with_weights-2.cell.bias\n",
            "WARNING:tensorflow:A checkpoint was restored (e.g. tf.train.Checkpoint.restore or tf.keras.Model.load_weights) but not all checkpointed values were used. See above for specific issues. Use expect_partial() on the load status object, e.g. tf.train.Checkpoint.restore(...).expect_partial(), to silence these warnings, or use assert_consumed() to make the check explicit. See https://www.tensorflow.org/guide/checkpoint#loading_mechanics for details.\n"
          ],
          "name": "stdout"
        },
        {
          "output_type": "stream",
          "text": [
            "/usr/local/lib/python3.6/dist-packages/ipykernel_launcher.py:8: DeprecationWarning: generator 'ngrams' raised StopIteration\n",
            "  \n"
          ],
          "name": "stderr"
        },
        {
          "output_type": "stream",
          "text": [
            "Model vaali_songs - Diversity 0.1 - Uni score 1.0 - Bi score 1.0\n",
            "Model vaali_songs - Diversity 0.2 - Uni score 1.0 - Bi score 0.957\n",
            "Model vaali_songs - Diversity 0.30000000000000004 - Uni score 1.0 - Bi score 0.979\n",
            "Model vaali_songs - Diversity 0.4 - Uni score 1.0 - Bi score 0.894\n",
            "Model vaali_songs - Diversity 0.5 - Uni score 0.986 - Bi score 0.927\n",
            "Model vaali_songs - Diversity 0.6 - Uni score 1.0 - Bi score 0.926\n",
            "Model vaali_songs - Diversity 0.7000000000000001 - Uni score 0.958 - Bi score 0.769\n",
            "Model vaali_songs - Diversity 0.8 - Uni score 0.938 - Bi score 0.667\n",
            "Model vaali_songs - Diversity 0.9 - Uni score 0.952 - Bi score 0.806\n"
          ],
          "name": "stdout"
        },
        {
          "output_type": "execute_result",
          "data": {
            "text/html": [
              "<div>\n",
              "<style scoped>\n",
              "    .dataframe tbody tr th:only-of-type {\n",
              "        vertical-align: middle;\n",
              "    }\n",
              "\n",
              "    .dataframe tbody tr th {\n",
              "        vertical-align: top;\n",
              "    }\n",
              "\n",
              "    .dataframe thead th {\n",
              "        text-align: right;\n",
              "    }\n",
              "</style>\n",
              "<table border=\"1\" class=\"dataframe\">\n",
              "  <thead>\n",
              "    <tr style=\"text-align: right;\">\n",
              "      <th></th>\n",
              "      <th>vaali_songs_uni_score</th>\n",
              "      <th>vaali_songs_bi_score</th>\n",
              "      <th>vaali_songs_generated_lyric</th>\n",
              "      <th>vaali_songs_unmatched_words</th>\n",
              "    </tr>\n",
              "  </thead>\n",
              "  <tbody>\n",
              "    <tr>\n",
              "      <th>0</th>\n",
              "      <td>1.000</td>\n",
              "      <td>1.000</td>\n",
              "      <td>யாரோ\\r\\n\\r\\nதாக்குதே\\r\\nகண் தாக்குதே\\r\\nகண் தா...</td>\n",
              "      <td>[]</td>\n",
              "    </tr>\n",
              "    <tr>\n",
              "      <th>1</th>\n",
              "      <td>1.000</td>\n",
              "      <td>0.957</td>\n",
              "      <td>யாரோ\\r\\n\\r\\nதாகம் தீர்ந்து வழங்கும் விருந்து\\r...</td>\n",
              "      <td>[தீர்ந்து வழங்கும், ஆசையில் அத]</td>\n",
              "    </tr>\n",
              "    <tr>\n",
              "      <th>2</th>\n",
              "      <td>1.000</td>\n",
              "      <td>0.979</td>\n",
              "      <td>யாரோ\\r\\n\\r\\nதாகம் தீர்ந்து வழங்கும் விருந்து\\r...</td>\n",
              "      <td>[தீர்ந்து வழங்கும்]</td>\n",
              "    </tr>\n",
              "    <tr>\n",
              "      <th>3</th>\n",
              "      <td>1.000</td>\n",
              "      <td>0.894</td>\n",
              "      <td>யாரோ\\r\\n\\r\\nதோகையும் தோகையும் தேகம் வாடுது\\r\\n...</td>\n",
              "      <td>[ஆத்தாடி இல்லடி, இல்லடி கும்மி, கும்மி மோகம், ...</td>\n",
              "    </tr>\n",
              "    <tr>\n",
              "      <th>4</th>\n",
              "      <td>0.986</td>\n",
              "      <td>0.927</td>\n",
              "      <td>யாரோ\\r\\nநான் செத்துப் பொழச்சவன்டா !\\r\\nஎமனை பா...</td>\n",
              "      <td>[ஆனைகட்டியில், ஓடுகின்ற மன்னன், ஆனைகட்டியில் ச...</td>\n",
              "    </tr>\n",
              "    <tr>\n",
              "      <th>5</th>\n",
              "      <td>1.000</td>\n",
              "      <td>0.926</td>\n",
              "      <td>யாரோ\\r\\n\\r\\nதென்றல் தேடுதே\\r\\n\\r\\nபுல்வெளி பாத...</td>\n",
              "      <td>[தென்றல் தேடுதே, ஆடல்கள் பெண், கட்டிப்போடு வாழ...</td>\n",
              "    </tr>\n",
              "    <tr>\n",
              "      <th>6</th>\n",
              "      <td>0.958</td>\n",
              "      <td>0.769</td>\n",
              "      <td>யாரோ\\r\\nநான் செத்துப் பொழச்சவன்டா !\\r\\nசெத்துப...</td>\n",
              "      <td>[மூச்சிருப்புடம், தரிராதா, எரிய், புது அடிச்சா...</td>\n",
              "    </tr>\n",
              "    <tr>\n",
              "      <th>7</th>\n",
              "      <td>0.938</td>\n",
              "      <td>0.667</td>\n",
              "      <td>யாரோ\\r\\n\\r\\nதேடி வேண்டும்\\r\\nஓர் பிள்ளை வந்தால...</td>\n",
              "      <td>[குணி, அன்னம்தா, பெஞ்சான, நூர், அங்கிரு, தேடி ...</td>\n",
              "    </tr>\n",
              "    <tr>\n",
              "      <th>8</th>\n",
              "      <td>0.952</td>\n",
              "      <td>0.806</td>\n",
              "      <td>யாரோ\\r\\nயார் நம் அசி\\r\\nஇந்த சொர்க்க தீவாழ்கவே...</td>\n",
              "      <td>[அசி, தீவாழ்கவே, அன்ஹ, மாதினம், யார் நம், நம் ...</td>\n",
              "    </tr>\n",
              "  </tbody>\n",
              "</table>\n",
              "</div>"
            ],
            "text/plain": [
              "   vaali_songs_uni_score  ...                        vaali_songs_unmatched_words\n",
              "0                  1.000  ...                                                 []\n",
              "1                  1.000  ...                    [தீர்ந்து வழங்கும், ஆசையில் அத]\n",
              "2                  1.000  ...                                [தீர்ந்து வழங்கும்]\n",
              "3                  1.000  ...  [ஆத்தாடி இல்லடி, இல்லடி கும்மி, கும்மி மோகம், ...\n",
              "4                  0.986  ...  [ஆனைகட்டியில், ஓடுகின்ற மன்னன், ஆனைகட்டியில் ச...\n",
              "5                  1.000  ...  [தென்றல் தேடுதே, ஆடல்கள் பெண், கட்டிப்போடு வாழ...\n",
              "6                  0.958  ...  [மூச்சிருப்புடம், தரிராதா, எரிய், புது அடிச்சா...\n",
              "7                  0.938  ...  [குணி, அன்னம்தா, பெஞ்சான, நூர், அங்கிரு, தேடி ...\n",
              "8                  0.952  ...  [அசி, தீவாழ்கவே, அன்ஹ, மாதினம், யார் நம், நம் ...\n",
              "\n",
              "[9 rows x 4 columns]"
            ]
          },
          "metadata": {
            "tags": []
          },
          "execution_count": 28
        }
      ]
    },
    {
      "cell_type": "code",
      "metadata": {
        "id": "uP81HToQoE6C",
        "colab_type": "code",
        "colab": {
          "base_uri": "https://localhost:8080/",
          "height": 1000
        },
        "outputId": "09e4577c-6184-454b-9bb6-308fd70f8c02"
      },
      "source": [
        "results_kannadasan = create_model_for(\"kannadasan_songs\", kannadasan_df)\n",
        "results_kannadasan"
      ],
      "execution_count": 29,
      "outputs": [
        {
          "output_type": "stream",
          "text": [
            "Creating Model:  kannadasan_songs\n",
            "-------------------------------\n",
            "Total songs combined : 290\n",
            "\n",
            "Length of text: 306758 characters\n",
            "Sample Text: \n",
            "\n",
            "ஆறு முகமான பொருள் \r\n",
            "வான் மகிழ வந்தான்\r\n",
            "அழகன் இவன் முருகன் எனும் \r\n",
            "இனிய பெயர் கொண்டான்\r\n",
            "\r\n",
            "ஆறு முகமான பொருள் \r\n",
            "வான் மகிழ வந்தான்\r\n",
            "அழகன் இவன் முருகன் எனும் \r\n",
            "இனிய பெயர் கொண்டான் ( இசை )\r\n",
            "கால மகள் பெற்ற மகன் \r\n",
            "கோல முகம் வாழ்க\r\n",
            "கால மகள் பெற்ற மகன் \r\n",
            "கோல ம\n",
            "\n",
            "82 unique characters\n",
            "\n",
            "Input data:  'ஆறு முகமான பொருள்\\xa0\\r\\nவான் மகிழ வந்தான்\\r\\nஅழகன் இவன் முருகன் எனும்\\xa0\\r\\nஇனிய பெயர் கொண்டான்\\r\\n\\r\\nஆறு முகமான '\n",
            "Target data: 'று முகமான பொருள்\\xa0\\r\\nவான் மகிழ வந்தான்\\r\\nஅழகன் இவன் முருகன் எனும்\\xa0\\r\\nஇனிய பெயர் கொண்டான்\\r\\n\\r\\nஆறு முகமான ப'\n",
            "Input data:  'ொருள்\\xa0\\r\\nவான் மகிழ வந்தான்\\r\\nஅழகன் இவன் முருகன் எனும்\\xa0\\r\\nஇனிய பெயர் கொண்டான் ( இசை )\\r\\nகால மகள் பெற்ற மக'\n",
            "Target data: 'ருள்\\xa0\\r\\nவான் மகிழ வந்தான்\\r\\nஅழகன் இவன் முருகன் எனும்\\xa0\\r\\nஇனிய பெயர் கொண்டான் ( இசை )\\r\\nகால மகள் பெற்ற மகன'\n",
            "Input data:  '்\\xa0\\r\\nகோல முகம் வாழ்க\\r\\nகால மகள் பெற்ற மகன்\\xa0\\r\\nகோல முகம் வாழ்க\\r\\nகந்தன் என குமரன் என\\xa0\\r\\nவந்த முகம் வாழ்க\\r\\n'\n",
            "Target data: '\\xa0\\r\\nகோல முகம் வாழ்க\\r\\nகால மகள் பெற்ற மகன்\\xa0\\r\\nகோல முகம் வாழ்க\\r\\nகந்தன் என குமரன் என\\xa0\\r\\nவந்த முகம் வாழ்க\\r\\nக'\n",
            "Input data:  'ந்தன் என குமரன் என\\xa0\\r\\nவந்த முகம் வாழ்க\\r\\nஇருவர் ஆறு முகமான பொருள்\\xa0\\r\\nவான் மகிழ வந்தான்\\r\\nஅழகன் இவன் முரு'\n",
            "Target data: '்தன் என குமரன் என\\xa0\\r\\nவந்த முகம் வாழ்க\\r\\nஇருவர் ஆறு முகமான பொருள்\\xa0\\r\\nவான் மகிழ வந்தான்\\r\\nஅழகன் இவன் முருக'\n",
            "Input data:  'ன் எனும்\\xa0\\r\\nஇனிய பெயர் கொண்டான்\\r\\n\\r\\nதாமரையில் பூத்து வந்த\\xa0\\r\\nதங்க முகம் ஒன்று\\r\\nதாமரையில் பூத்து வந்த\\xa0\\r\\n'\n",
            "Target data: '் எனும்\\xa0\\r\\nஇனிய பெயர் கொண்டான்\\r\\n\\r\\nதாமரையில் பூத்து வந்த\\xa0\\r\\nதங்க முகம் ஒன்று\\r\\nதாமரையில் பூத்து வந்த\\xa0\\r\\nத'\n",
            "\n",
            "<BatchDataset shapes: ((64, 100), (64, 100)), types: (tf.int64, tf.int64)>\n",
            "(64, 100, 82) # (batch_size, sequence_length, vocab_size)\n",
            "Epoch 1/30\n",
            "47/47 [==============================] - 5s 114ms/step - loss: 3.3443\n",
            "Epoch 2/30\n",
            "47/47 [==============================] - 5s 115ms/step - loss: 2.4616\n",
            "Epoch 3/30\n",
            "47/47 [==============================] - 5s 114ms/step - loss: 2.1361\n",
            "Epoch 4/30\n",
            "47/47 [==============================] - 5s 115ms/step - loss: 1.9503\n",
            "Epoch 5/30\n",
            "47/47 [==============================] - 5s 114ms/step - loss: 1.8022\n",
            "Epoch 6/30\n",
            "47/47 [==============================] - 5s 115ms/step - loss: 1.6704\n",
            "Epoch 7/30\n",
            "47/47 [==============================] - 5s 114ms/step - loss: 1.5431\n",
            "Epoch 8/30\n",
            "47/47 [==============================] - 5s 116ms/step - loss: 1.4190\n",
            "Epoch 9/30\n",
            "47/47 [==============================] - 5s 114ms/step - loss: 1.2931\n",
            "Epoch 10/30\n",
            "47/47 [==============================] - 5s 115ms/step - loss: 1.1592\n",
            "Epoch 11/30\n",
            "47/47 [==============================] - 5s 114ms/step - loss: 1.0282\n",
            "Epoch 12/30\n",
            "47/47 [==============================] - 5s 115ms/step - loss: 0.8992\n",
            "Epoch 13/30\n",
            "47/47 [==============================] - 5s 114ms/step - loss: 0.7834\n",
            "Epoch 14/30\n",
            "47/47 [==============================] - 5s 115ms/step - loss: 0.6753\n",
            "Epoch 15/30\n",
            "47/47 [==============================] - 5s 114ms/step - loss: 0.5822\n",
            "Epoch 16/30\n",
            "47/47 [==============================] - 5s 115ms/step - loss: 0.5061\n",
            "Epoch 17/30\n",
            "47/47 [==============================] - 5s 114ms/step - loss: 0.4449\n",
            "Epoch 18/30\n",
            "47/47 [==============================] - 5s 114ms/step - loss: 0.3945\n",
            "Epoch 19/30\n",
            "47/47 [==============================] - 5s 115ms/step - loss: 0.3577\n",
            "Epoch 20/30\n",
            "47/47 [==============================] - 5s 115ms/step - loss: 0.3284\n",
            "Epoch 21/30\n",
            "47/47 [==============================] - 5s 115ms/step - loss: 0.3074\n",
            "Epoch 22/30\n",
            "47/47 [==============================] - 5s 114ms/step - loss: 0.2898\n",
            "Epoch 23/30\n",
            "47/47 [==============================] - 5s 114ms/step - loss: 0.2742\n",
            "Epoch 24/30\n",
            "47/47 [==============================] - 5s 114ms/step - loss: 0.2651\n",
            "Epoch 25/30\n",
            "47/47 [==============================] - 5s 114ms/step - loss: 0.2549\n",
            "Epoch 26/30\n",
            "47/47 [==============================] - 5s 114ms/step - loss: 0.2464\n",
            "Epoch 27/30\n",
            "47/47 [==============================] - 5s 114ms/step - loss: 0.2373\n",
            "Epoch 28/30\n",
            "47/47 [==============================] - 5s 115ms/step - loss: 0.2332\n",
            "Epoch 29/30\n",
            "47/47 [==============================] - 5s 114ms/step - loss: 0.2280\n",
            "Epoch 30/30\n",
            "47/47 [==============================] - 5s 115ms/step - loss: 0.2207\n"
          ],
          "name": "stdout"
        },
        {
          "output_type": "stream",
          "text": [
            "/usr/local/lib/python3.6/dist-packages/tensorflowjs/converters/keras_h5_conversion.py:122: H5pyDeprecationWarning: The default file mode will change to 'r' (read-only) in h5py 3.0. To suppress this warning, pass the mode you need to h5py.File(), or set the global default h5.get_config().default_file_mode, or set the environment variable H5PY_DEFAULT_READONLY=1. Available modes are: 'r', 'r+', 'w', 'w-'/'x', 'a'. See the docs for details.\n",
            "  return h5py.File(h5file)\n"
          ],
          "name": "stderr"
        },
        {
          "output_type": "stream",
          "text": [
            "Model kannadasan_songs - Diversity 0.1 - Uni score 1.0 - Bi score 1.0\n",
            "Model kannadasan_songs - Diversity 0.2 - Uni score 1.0 - Bi score 1.0\n",
            "Model kannadasan_songs - Diversity 0.30000000000000004 - Uni score 1.0 - Bi score 0.919\n"
          ],
          "name": "stdout"
        },
        {
          "output_type": "stream",
          "text": [
            "/usr/local/lib/python3.6/dist-packages/ipykernel_launcher.py:8: DeprecationWarning: generator 'ngrams' raised StopIteration\n",
            "  \n"
          ],
          "name": "stderr"
        },
        {
          "output_type": "stream",
          "text": [
            "Model kannadasan_songs - Diversity 0.4 - Uni score 1.0 - Bi score 0.94\n",
            "Model kannadasan_songs - Diversity 0.5 - Uni score 0.939 - Bi score 0.62\n",
            "Model kannadasan_songs - Diversity 0.6 - Uni score 0.969 - Bi score 0.75\n",
            "Model kannadasan_songs - Diversity 0.7000000000000001 - Uni score 0.91 - Bi score 0.64\n",
            "Model kannadasan_songs - Diversity 0.8 - Uni score 0.904 - Bi score 0.811\n",
            "Model kannadasan_songs - Diversity 0.9 - Uni score 0.957 - Bi score 0.686\n"
          ],
          "name": "stdout"
        },
        {
          "output_type": "execute_result",
          "data": {
            "text/html": [
              "<div>\n",
              "<style scoped>\n",
              "    .dataframe tbody tr th:only-of-type {\n",
              "        vertical-align: middle;\n",
              "    }\n",
              "\n",
              "    .dataframe tbody tr th {\n",
              "        vertical-align: top;\n",
              "    }\n",
              "\n",
              "    .dataframe thead th {\n",
              "        text-align: right;\n",
              "    }\n",
              "</style>\n",
              "<table border=\"1\" class=\"dataframe\">\n",
              "  <thead>\n",
              "    <tr style=\"text-align: right;\">\n",
              "      <th></th>\n",
              "      <th>kannadasan_songs_uni_score</th>\n",
              "      <th>kannadasan_songs_bi_score</th>\n",
              "      <th>kannadasan_songs_generated_lyric</th>\n",
              "      <th>kannadasan_songs_unmatched_words</th>\n",
              "    </tr>\n",
              "  </thead>\n",
              "  <tbody>\n",
              "    <tr>\n",
              "      <th>0</th>\n",
              "      <td>1.000</td>\n",
              "      <td>1.000</td>\n",
              "      <td>யாரோ \\r\\nஅவன் பேர் தான் தெரியாதோ?\\r\\nயார் யார்...</td>\n",
              "      <td>[]</td>\n",
              "    </tr>\n",
              "    <tr>\n",
              "      <th>1</th>\n",
              "      <td>1.000</td>\n",
              "      <td>1.000</td>\n",
              "      <td>யாரோ \\r\\nஅவன் பேர் தான் தெரியாதோ?\\r\\nயார் யார்...</td>\n",
              "      <td>[]</td>\n",
              "    </tr>\n",
              "    <tr>\n",
              "      <th>2</th>\n",
              "      <td>1.000</td>\n",
              "      <td>0.919</td>\n",
              "      <td>யாரோ \\r\\nஅன்பே காவல் அவள் வழியாதோ\\r\\nதாயிருக்க...</td>\n",
              "      <td>[அன்பே காவல், காவல் அவள், அவள் வழியாதோ]</td>\n",
              "    </tr>\n",
              "    <tr>\n",
              "      <th>3</th>\n",
              "      <td>1.000</td>\n",
              "      <td>0.940</td>\n",
              "      <td>யாரோ \\r\\nஇன்று மட்டும் அமைதி தந்தால் உறங்குவேன...</td>\n",
              "      <td>[.. எந்தன், எந்தன் பார்வை, இடையே சிவந்திருக்க]</td>\n",
              "    </tr>\n",
              "    <tr>\n",
              "      <th>4</th>\n",
              "      <td>0.939</td>\n",
              "      <td>0.620</td>\n",
              "      <td>யாரோ \\r\\nஅன்பே காவல் அவள் வாழ்வும் முன்னே\\r\\nக...</td>\n",
              "      <td>[மீணும், மேளி, பலர்களைக், இறுத்திருக்கும், அன்...</td>\n",
              "    </tr>\n",
              "    <tr>\n",
              "      <th>5</th>\n",
              "      <td>0.969</td>\n",
              "      <td>0.750</td>\n",
              "      <td>யாரோ \\r\\n\\r\\nஅக்கு முகம் ஒன்று\\r\\nநூறு முகம் க...</td>\n",
              "      <td>[இருந்ததில், படரட்டு, அக்கு முகம், தோள் நடு, ந...</td>\n",
              "    </tr>\n",
              "    <tr>\n",
              "      <th>6</th>\n",
              "      <td>0.910</td>\n",
              "      <td>0.640</td>\n",
              "      <td>யாரோ\\r\\nஅன்பே காய் அரியது கண்ணில் தவம் எதற்கு\\...</td>\n",
              "      <td>[மலயே, பேரடியா, எண்ணெயில்லாத, உண்மைக்கொண்டு, த...</td>\n",
              "    </tr>\n",
              "    <tr>\n",
              "      <th>7</th>\n",
              "      <td>0.904</td>\n",
              "      <td>0.811</td>\n",
              "      <td>யாரோ\\r\\nஅன்பே காவிரம் பாய் பீசாது\\r\\nது இரவினி...</td>\n",
              "      <td>[காவிரம், பீசாது, கவித்தா, நிருப்பரங்குன்றம், ...</td>\n",
              "    </tr>\n",
              "    <tr>\n",
              "      <th>8</th>\n",
              "      <td>0.957</td>\n",
              "      <td>0.686</td>\n",
              "      <td>யாரோ\\r\\n(பாட்டுப் போது வீகம் ஆசை தரும் மொழி கூ...</td>\n",
              "      <td>[பார்க்கின்றாய், பொள்ளிருந்து, வாழ்த்துவந்தது,...</td>\n",
              "    </tr>\n",
              "  </tbody>\n",
              "</table>\n",
              "</div>"
            ],
            "text/plain": [
              "   kannadasan_songs_uni_score  ...                   kannadasan_songs_unmatched_words\n",
              "0                       1.000  ...                                                 []\n",
              "1                       1.000  ...                                                 []\n",
              "2                       1.000  ...            [அன்பே காவல், காவல் அவள், அவள் வழியாதோ]\n",
              "3                       1.000  ...     [.. எந்தன், எந்தன் பார்வை, இடையே சிவந்திருக்க]\n",
              "4                       0.939  ...  [மீணும், மேளி, பலர்களைக், இறுத்திருக்கும், அன்...\n",
              "5                       0.969  ...  [இருந்ததில், படரட்டு, அக்கு முகம், தோள் நடு, ந...\n",
              "6                       0.910  ...  [மலயே, பேரடியா, எண்ணெயில்லாத, உண்மைக்கொண்டு, த...\n",
              "7                       0.904  ...  [காவிரம், பீசாது, கவித்தா, நிருப்பரங்குன்றம், ...\n",
              "8                       0.957  ...  [பார்க்கின்றாய், பொள்ளிருந்து, வாழ்த்துவந்தது,...\n",
              "\n",
              "[9 rows x 4 columns]"
            ]
          },
          "metadata": {
            "tags": []
          },
          "execution_count": 29
        }
      ]
    },
    {
      "cell_type": "code",
      "metadata": {
        "id": "dd8RzTJ0wEIU",
        "colab_type": "code",
        "colab": {
          "base_uri": "https://localhost:8080/",
          "height": 1000
        },
        "outputId": "537f8984-49db-4b0b-aec7-ec1b0d535cc7"
      },
      "source": [
        "results_all_songs = create_model_for(\"full_songs\", df)\n",
        "results_all_songs"
      ],
      "execution_count": 30,
      "outputs": [
        {
          "output_type": "stream",
          "text": [
            "Creating Model:  full_songs\n",
            "-------------------------------\n",
            "Total songs combined : 4142\n",
            "\n",
            "Length of text: 5266494 characters\n",
            "Sample Text: \n",
            "\n",
            "கடலினில் மீனாக இருந்தவள் நான்\r\n",
            "உனக்கென கரை தாண்டி வந்தவள் தான்\r\n",
            "துடித்திருந்தேன் தரையினிலே\r\n",
            "திரும்பிவிட்டேன் என் கடலிடமே…\r\n",
            "\r\n",
            "ஒரு நாள் சிரித்தேன்\r\n",
            "மறு நாள் வெறுத்தேன்\r\n",
            "உனை நான் கொல்லாமல்\r\n",
            "கொன்று புதைத்தேனே\r\n",
            "மன்னிப்பாயா மன்னிப்பாயா\r\n",
            "மன்னிப்பாயா…\r\n",
            "\r\n",
            "ஒரு\n",
            "\n",
            "172 unique characters\n",
            "\n",
            "Input data:  'கடலினில் மீனாக இருந்தவள் நான்\\r\\nஉனக்கென கரை தாண்டி வந்தவள் தான்\\r\\nதுடித்திருந்தேன் தரையினிலே\\r\\nதிரும்பி'\n",
            "Target data: 'டலினில் மீனாக இருந்தவள் நான்\\r\\nஉனக்கென கரை தாண்டி வந்தவள் தான்\\r\\nதுடித்திருந்தேன் தரையினிலே\\r\\nதிரும்பிவ'\n",
            "Input data:  'ிட்டேன் என் கடலிடமே…\\r\\n\\r\\nஒரு நாள் சிரித்தேன்\\r\\nமறு நாள் வெறுத்தேன்\\r\\nஉனை நான் கொல்லாமல்\\r\\nகொன்று புதைத்த'\n",
            "Target data: 'ட்டேன் என் கடலிடமே…\\r\\n\\r\\nஒரு நாள் சிரித்தேன்\\r\\nமறு நாள் வெறுத்தேன்\\r\\nஉனை நான் கொல்லாமல்\\r\\nகொன்று புதைத்தே'\n",
            "Input data:  'னே\\r\\nமன்னிப்பாயா மன்னிப்பாயா\\r\\nமன்னிப்பாயா…\\r\\n\\r\\nஒரு நாள் சிரித்தேன்\\r\\nமறு நாள் வெறுத்தேன்\\r\\nஉனை நான் கொல்'\n",
            "Target data: 'ே\\r\\nமன்னிப்பாயா மன்னிப்பாயா\\r\\nமன்னிப்பாயா…\\r\\n\\r\\nஒரு நாள் சிரித்தேன்\\r\\nமறு நாள் வெறுத்தேன்\\r\\nஉனை நான் கொல்ல'\n",
            "Input data:  'ாமல்\\r\\nகொன்று புதைத்தேனே\\r\\nமன்னிப்பாயா மன்னிப்பாயா\\r\\nமன்னிப்பாயா மன்னிப்பாயா\\r\\n\\r\\nகனவே தடுமாறி நடந்தேன்\\r\\n'\n",
            "Target data: 'மல்\\r\\nகொன்று புதைத்தேனே\\r\\nமன்னிப்பாயா மன்னிப்பாயா\\r\\nமன்னிப்பாயா மன்னிப்பாயா\\r\\n\\r\\nகனவே தடுமாறி நடந்தேன்\\r\\nந'\n",
            "Input data:  'ூலில் ஆடும் மழையாகிப் போனேன்\\r\\nஉன்னால்தான் கலைஞனாய் ஆனேனே…\\r\\nதொலை தூரத்தில் வெளிச்சம் நீ\\r\\nஉனை நோக்கியே'\n",
            "Target data: 'லில் ஆடும் மழையாகிப் போனேன்\\r\\nஉன்னால்தான் கலைஞனாய் ஆனேனே…\\r\\nதொலை தூரத்தில் வெளிச்சம் நீ\\r\\nஉனை நோக்கியே '\n",
            "\n",
            "<BatchDataset shapes: ((64, 100), (64, 100)), types: (tf.int64, tf.int64)>\n",
            "(64, 100, 172) # (batch_size, sequence_length, vocab_size)\n",
            "Epoch 1/30\n",
            "WARNING:tensorflow:Unresolved object in checkpoint: (root).optimizer\n",
            "WARNING:tensorflow:Unresolved object in checkpoint: (root).optimizer.iter\n",
            "WARNING:tensorflow:Unresolved object in checkpoint: (root).optimizer.beta_1\n",
            "WARNING:tensorflow:Unresolved object in checkpoint: (root).optimizer.beta_2\n",
            "WARNING:tensorflow:Unresolved object in checkpoint: (root).optimizer.decay\n",
            "WARNING:tensorflow:Unresolved object in checkpoint: (root).optimizer.learning_rate\n",
            "WARNING:tensorflow:Unresolved object in checkpoint: (root).optimizer's state 'm' for (root).layer_with_weights-0.embeddings\n",
            "WARNING:tensorflow:Unresolved object in checkpoint: (root).optimizer's state 'm' for (root).layer_with_weights-3.kernel\n",
            "WARNING:tensorflow:Unresolved object in checkpoint: (root).optimizer's state 'm' for (root).layer_with_weights-3.bias\n",
            "WARNING:tensorflow:Unresolved object in checkpoint: (root).optimizer's state 'm' for (root).layer_with_weights-1.cell.kernel\n",
            "WARNING:tensorflow:Unresolved object in checkpoint: (root).optimizer's state 'm' for (root).layer_with_weights-1.cell.recurrent_kernel\n",
            "WARNING:tensorflow:Unresolved object in checkpoint: (root).optimizer's state 'm' for (root).layer_with_weights-1.cell.bias\n",
            "WARNING:tensorflow:Unresolved object in checkpoint: (root).optimizer's state 'm' for (root).layer_with_weights-2.cell.kernel\n",
            "WARNING:tensorflow:Unresolved object in checkpoint: (root).optimizer's state 'm' for (root).layer_with_weights-2.cell.recurrent_kernel\n",
            "WARNING:tensorflow:Unresolved object in checkpoint: (root).optimizer's state 'm' for (root).layer_with_weights-2.cell.bias\n",
            "WARNING:tensorflow:Unresolved object in checkpoint: (root).optimizer's state 'v' for (root).layer_with_weights-0.embeddings\n",
            "WARNING:tensorflow:Unresolved object in checkpoint: (root).optimizer's state 'v' for (root).layer_with_weights-3.kernel\n",
            "WARNING:tensorflow:Unresolved object in checkpoint: (root).optimizer's state 'v' for (root).layer_with_weights-3.bias\n",
            "WARNING:tensorflow:Unresolved object in checkpoint: (root).optimizer's state 'v' for (root).layer_with_weights-1.cell.kernel\n",
            "WARNING:tensorflow:Unresolved object in checkpoint: (root).optimizer's state 'v' for (root).layer_with_weights-1.cell.recurrent_kernel\n",
            "WARNING:tensorflow:Unresolved object in checkpoint: (root).optimizer's state 'v' for (root).layer_with_weights-1.cell.bias\n",
            "WARNING:tensorflow:Unresolved object in checkpoint: (root).optimizer's state 'v' for (root).layer_with_weights-2.cell.kernel\n",
            "WARNING:tensorflow:Unresolved object in checkpoint: (root).optimizer's state 'v' for (root).layer_with_weights-2.cell.recurrent_kernel\n",
            "WARNING:tensorflow:Unresolved object in checkpoint: (root).optimizer's state 'v' for (root).layer_with_weights-2.cell.bias\n",
            "WARNING:tensorflow:A checkpoint was restored (e.g. tf.train.Checkpoint.restore or tf.keras.Model.load_weights) but not all checkpointed values were used. See above for specific issues. Use expect_partial() on the load status object, e.g. tf.train.Checkpoint.restore(...).expect_partial(), to silence these warnings, or use assert_consumed() to make the check explicit. See https://www.tensorflow.org/guide/checkpoint#loading_mechanics for details.\n",
            "WARNING:tensorflow:Unresolved object in checkpoint: (root).optimizer\n",
            "WARNING:tensorflow:Unresolved object in checkpoint: (root).optimizer.iter\n",
            "WARNING:tensorflow:Unresolved object in checkpoint: (root).optimizer.beta_1\n",
            "WARNING:tensorflow:Unresolved object in checkpoint: (root).optimizer.beta_2\n",
            "WARNING:tensorflow:Unresolved object in checkpoint: (root).optimizer.decay\n",
            "WARNING:tensorflow:Unresolved object in checkpoint: (root).optimizer.learning_rate\n",
            "WARNING:tensorflow:Unresolved object in checkpoint: (root).optimizer's state 'm' for (root).layer_with_weights-0.embeddings\n",
            "WARNING:tensorflow:Unresolved object in checkpoint: (root).optimizer's state 'm' for (root).layer_with_weights-3.kernel\n",
            "WARNING:tensorflow:Unresolved object in checkpoint: (root).optimizer's state 'm' for (root).layer_with_weights-3.bias\n",
            "WARNING:tensorflow:Unresolved object in checkpoint: (root).optimizer's state 'm' for (root).layer_with_weights-1.cell.kernel\n",
            "WARNING:tensorflow:Unresolved object in checkpoint: (root).optimizer's state 'm' for (root).layer_with_weights-1.cell.recurrent_kernel\n",
            "WARNING:tensorflow:Unresolved object in checkpoint: (root).optimizer's state 'm' for (root).layer_with_weights-1.cell.bias\n",
            "WARNING:tensorflow:Unresolved object in checkpoint: (root).optimizer's state 'm' for (root).layer_with_weights-2.cell.kernel\n",
            "WARNING:tensorflow:Unresolved object in checkpoint: (root).optimizer's state 'm' for (root).layer_with_weights-2.cell.recurrent_kernel\n",
            "WARNING:tensorflow:Unresolved object in checkpoint: (root).optimizer's state 'm' for (root).layer_with_weights-2.cell.bias\n",
            "WARNING:tensorflow:Unresolved object in checkpoint: (root).optimizer's state 'v' for (root).layer_with_weights-0.embeddings\n",
            "WARNING:tensorflow:Unresolved object in checkpoint: (root).optimizer's state 'v' for (root).layer_with_weights-3.kernel\n",
            "WARNING:tensorflow:Unresolved object in checkpoint: (root).optimizer's state 'v' for (root).layer_with_weights-3.bias\n",
            "WARNING:tensorflow:Unresolved object in checkpoint: (root).optimizer's state 'v' for (root).layer_with_weights-1.cell.kernel\n",
            "WARNING:tensorflow:Unresolved object in checkpoint: (root).optimizer's state 'v' for (root).layer_with_weights-1.cell.recurrent_kernel\n",
            "WARNING:tensorflow:Unresolved object in checkpoint: (root).optimizer's state 'v' for (root).layer_with_weights-1.cell.bias\n",
            "WARNING:tensorflow:Unresolved object in checkpoint: (root).optimizer's state 'v' for (root).layer_with_weights-2.cell.kernel\n",
            "WARNING:tensorflow:Unresolved object in checkpoint: (root).optimizer's state 'v' for (root).layer_with_weights-2.cell.recurrent_kernel\n",
            "WARNING:tensorflow:Unresolved object in checkpoint: (root).optimizer's state 'v' for (root).layer_with_weights-2.cell.bias\n",
            "WARNING:tensorflow:A checkpoint was restored (e.g. tf.train.Checkpoint.restore or tf.keras.Model.load_weights) but not all checkpointed values were used. See above for specific issues. Use expect_partial() on the load status object, e.g. tf.train.Checkpoint.restore(...).expect_partial(), to silence these warnings, or use assert_consumed() to make the check explicit. See https://www.tensorflow.org/guide/checkpoint#loading_mechanics for details.\n",
            "814/814 [==============================] - 96s 118ms/step - loss: 1.9764\n",
            "Epoch 2/30\n",
            "814/814 [==============================] - 96s 118ms/step - loss: 1.5302\n",
            "Epoch 3/30\n",
            "659/814 [=======================>......] - ETA: 18s - loss: 1.4305Creating Model:  full_songs\n",
            "-------------------------------\n",
            "Total songs combined : 4142\n",
            "\n",
            "Length of text: 5266494 characters\n",
            "Sample Text: \n",
            "\n",
            "கடலினில் மீனாக இருந்தவள் நான்\n",
            "உனக்கென கரை தாண்டி வந்தவள் தான்\n",
            "துடித்திருந்தேன் தரையினிலே\n",
            "திரும்பிவிட்டேன் என் கடலிடமே…\n",
            "\n",
            "ஒரு நாள் சிரித்தேன்\n",
            "மறு நாள் வெறுத்தேன்\n",
            "உனை நான் கொல்லாமல்\n",
            "கொன்று புதைத்தேனே\n",
            "மன்னிப்பாயா மன்னிப்பாயா\n",
            "மன்னிப்பாயா…\n",
            "\n",
            "ஒரு\n",
            "\n",
            "172 unique characters\n",
            "\n",
            "Input data:  'கடலினில் மீனாக இருந்தவள் நான்\\r\\nஉனக்கென கரை தாண்டி வந்தவள் தான்\\r\\nதுடித்திருந்தேன் தரையினிலே\\r\\nதிரும்பி'\n",
            "Target data: 'டலினில் மீனாக இருந்தவள் நான்\\r\\nஉனக்கென கரை தாண்டி வந்தவள் தான்\\r\\nதுடித்திருந்தேன் தரையினிலே\\r\\nதிரும்பிவ'\n",
            "Input data:  'ிட்டேன் என் கடலிடமே…\\r\\n\\r\\nஒரு நாள் சிரித்தேன்\\r\\nமறு நாள் வெறுத்தேன்\\r\\nஉனை நான் கொல்லாமல்\\r\\nகொன்று புதைத்த'\n",
            "Target data: 'ட்டேன் என் கடலிடமே…\\r\\n\\r\\nஒரு நாள் சிரித்தேன்\\r\\nமறு நாள் வெறுத்தேன்\\r\\nஉனை நான் கொல்லாமல்\\r\\nகொன்று புதைத்தே'\n",
            "Input data:  'னே\\r\\nமன்னிப்பாயா மன்னிப்பாயா\\r\\nமன்னிப்பாயா…\\r\\n\\r\\nஒரு நாள் சிரித்தேன்\\r\\nமறு நாள் வெறுத்தேன்\\r\\nஉனை நான் கொல்'\n",
            "Target data: 'ே\\r\\nமன்னிப்பாயா மன்னிப்பாயா\\r\\nமன்னிப்பாயா…\\r\\n\\r\\nஒரு நாள் சிரித்தேன்\\r\\nமறு நாள் வெறுத்தேன்\\r\\nஉனை நான் கொல்ல'\n",
            "Input data:  'ாமல்\\r\\nகொன்று புதைத்தேனே\\r\\nமன்னிப்பாயா மன்னிப்பாயா\\r\\nமன்னிப்பாயா மன்னிப்பாயா\\r\\n\\r\\nகனவே தடுமாறி நடந்தேன்\\r\\n'\n",
            "Target data: 'மல்\\r\\nகொன்று புதைத்தேனே\\r\\nமன்னிப்பாயா மன்னிப்பாயா\\r\\nமன்னிப்பாயா மன்னிப்பாயா\\r\\n\\r\\nகனவே தடுமாறி நடந்தேன்\\r\\nந'\n",
            "Input data:  'ூலில் ஆடும் மழையாகிப் போனேன்\\r\\nஉன்னால்தான் கலைஞனாய் ஆனேனே…\\r\\nதொலை தூரத்தில் வெளிச்சம் நீ\\r\\nஉனை நோக்கியே'\n",
            "Target data: 'லில் ஆடும் மழையாகிப் போனேன்\\r\\nஉன்னால்தான் கலைஞனாய் ஆனேனே…\\r\\nதொலை தூரத்தில் வெளிச்சம் நீ\\r\\nஉனை நோக்கியே '\n",
            "\n",
            "<BatchDataset shapes: ((64, 100), (64, 100)), types: (tf.int64, tf.int64)>\n",
            "(64, 100, 172) # (batch_size, sequence_length, vocab_size)\n",
            "Epoch 1/30\n",
            "WARNING:tensorflow:Unresolved object in checkpoint: (root).optimizer\n",
            "WARNING:tensorflow:Unresolved object in checkpoint: (root).optimizer.iter\n",
            "WARNING:tensorflow:Unresolved object in checkpoint: (root).optimizer.beta_1\n",
            "WARNING:tensorflow:Unresolved object in checkpoint: (root).optimizer.beta_2\n",
            "WARNING:tensorflow:Unresolved object in checkpoint: (root).optimizer.decay\n",
            "WARNING:tensorflow:Unresolved object in checkpoint: (root).optimizer.learning_rate\n",
            "WARNING:tensorflow:Unresolved object in checkpoint: (root).optimizer's state 'm' for (root).layer_with_weights-0.embeddings\n",
            "WARNING:tensorflow:Unresolved object in checkpoint: (root).optimizer's state 'm' for (root).layer_with_weights-3.kernel\n",
            "WARNING:tensorflow:Unresolved object in checkpoint: (root).optimizer's state 'm' for (root).layer_with_weights-3.bias\n",
            "WARNING:tensorflow:Unresolved object in checkpoint: (root).optimizer's state 'm' for (root).layer_with_weights-1.cell.kernel\n",
            "WARNING:tensorflow:Unresolved object in checkpoint: (root).optimizer's state 'm' for (root).layer_with_weights-1.cell.recurrent_kernel\n",
            "WARNING:tensorflow:Unresolved object in checkpoint: (root).optimizer's state 'm' for (root).layer_with_weights-1.cell.bias\n",
            "WARNING:tensorflow:Unresolved object in checkpoint: (root).optimizer's state 'm' for (root).layer_with_weights-2.cell.kernel\n",
            "WARNING:tensorflow:Unresolved object in checkpoint: (root).optimizer's state 'm' for (root).layer_with_weights-2.cell.recurrent_kernel\n",
            "WARNING:tensorflow:Unresolved object in checkpoint: (root).optimizer's state 'm' for (root).layer_with_weights-2.cell.bias\n",
            "WARNING:tensorflow:Unresolved object in checkpoint: (root).optimizer's state 'v' for (root).layer_with_weights-0.embeddings\n",
            "WARNING:tensorflow:Unresolved object in checkpoint: (root).optimizer's state 'v' for (root).layer_with_weights-3.kernel\n",
            "WARNING:tensorflow:Unresolved object in checkpoint: (root).optimizer's state 'v' for (root).layer_with_weights-3.bias\n",
            "WARNING:tensorflow:Unresolved object in checkpoint: (root).optimizer's state 'v' for (root).layer_with_weights-1.cell.kernel\n",
            "WARNING:tensorflow:Unresolved object in checkpoint: (root).optimizer's state 'v' for (root).layer_with_weights-1.cell.recurrent_kernel\n",
            "WARNING:tensorflow:Unresolved object in checkpoint: (root).optimizer's state 'v' for (root).layer_with_weights-1.cell.bias\n",
            "WARNING:tensorflow:Unresolved object in checkpoint: (root).optimizer's state 'v' for (root).layer_with_weights-2.cell.kernel\n",
            "WARNING:tensorflow:Unresolved object in checkpoint: (root).optimizer's state 'v' for (root).layer_with_weights-2.cell.recurrent_kernel\n",
            "WARNING:tensorflow:Unresolved object in checkpoint: (root).optimizer's state 'v' for (root).layer_with_weights-2.cell.bias\n",
            "WARNING:tensorflow:A checkpoint was restored (e.g. tf.train.Checkpoint.restore or tf.keras.Model.load_weights) but not all checkpointed values were used. See above for specific issues. Use expect_partial() on the load status object, e.g. tf.train.Checkpoint.restore(...).expect_partial(), to silence these warnings, or use assert_consumed() to make the check explicit. See https://www.tensorflow.org/guide/checkpoint#loading_mechanics for details.\n",
            "WARNING:tensorflow:Unresolved object in checkpoint: (root).optimizer\n",
            "WARNING:tensorflow:Unresolved object in checkpoint: (root).optimizer.iter\n",
            "WARNING:tensorflow:Unresolved object in checkpoint: (root).optimizer.beta_1\n",
            "WARNING:tensorflow:Unresolved object in checkpoint: (root).optimizer.beta_2\n",
            "WARNING:tensorflow:Unresolved object in checkpoint: (root).optimizer.decay\n",
            "WARNING:tensorflow:Unresolved object in checkpoint: (root).optimizer.learning_rate\n",
            "WARNING:tensorflow:Unresolved object in checkpoint: (root).optimizer's state 'm' for (root).layer_with_weights-0.embeddings\n",
            "WARNING:tensorflow:Unresolved object in checkpoint: (root).optimizer's state 'm' for (root).layer_with_weights-3.kernel\n",
            "WARNING:tensorflow:Unresolved object in checkpoint: (root).optimizer's state 'm' for (root).layer_with_weights-3.bias\n",
            "WARNING:tensorflow:Unresolved object in checkpoint: (root).optimizer's state 'm' for (root).layer_with_weights-1.cell.kernel\n",
            "WARNING:tensorflow:Unresolved object in checkpoint: (root).optimizer's state 'm' for (root).layer_with_weights-1.cell.recurrent_kernel\n",
            "WARNING:tensorflow:Unresolved object in checkpoint: (root).optimizer's state 'm' for (root).layer_with_weights-1.cell.bias\n",
            "WARNING:tensorflow:Unresolved object in checkpoint: (root).optimizer's state 'm' for (root).layer_with_weights-2.cell.kernel\n",
            "WARNING:tensorflow:Unresolved object in checkpoint: (root).optimizer's state 'm' for (root).layer_with_weights-2.cell.recurrent_kernel\n",
            "WARNING:tensorflow:Unresolved object in checkpoint: (root).optimizer's state 'm' for (root).layer_with_weights-2.cell.bias\n",
            "WARNING:tensorflow:Unresolved object in checkpoint: (root).optimizer's state 'v' for (root).layer_with_weights-0.embeddings\n",
            "WARNING:tensorflow:Unresolved object in checkpoint: (root).optimizer's state 'v' for (root).layer_with_weights-3.kernel\n",
            "WARNING:tensorflow:Unresolved object in checkpoint: (root).optimizer's state 'v' for (root).layer_with_weights-3.bias\n",
            "WARNING:tensorflow:Unresolved object in checkpoint: (root).optimizer's state 'v' for (root).layer_with_weights-1.cell.kernel\n",
            "WARNING:tensorflow:Unresolved object in checkpoint: (root).optimizer's state 'v' for (root).layer_with_weights-1.cell.recurrent_kernel\n",
            "WARNING:tensorflow:Unresolved object in checkpoint: (root).optimizer's state 'v' for (root).layer_with_weights-1.cell.bias\n",
            "WARNING:tensorflow:Unresolved object in checkpoint: (root).optimizer's state 'v' for (root).layer_with_weights-2.cell.kernel\n",
            "WARNING:tensorflow:Unresolved object in checkpoint: (root).optimizer's state 'v' for (root).layer_with_weights-2.cell.recurrent_kernel\n",
            "WARNING:tensorflow:Unresolved object in checkpoint: (root).optimizer's state 'v' for (root).layer_with_weights-2.cell.bias\n",
            "WARNING:tensorflow:A checkpoint was restored (e.g. tf.train.Checkpoint.restore or tf.keras.Model.load_weights) but not all checkpointed values were used. See above for specific issues. Use expect_partial() on the load status object, e.g. tf.train.Checkpoint.restore(...).expect_partial(), to silence these warnings, or use assert_consumed() to make the check explicit. See https://www.tensorflow.org/guide/checkpoint#loading_mechanics for details.\n",
            "814/814 [==============================] - 96s 118ms/step - loss: 1.9764\n",
            "Epoch 2/30\n",
            "814/814 [==============================] - 96s 118ms/step - loss: 1.5302\n",
            "Epoch 3/30\n",
            "814/814 [==============================] - 96s 118ms/step - loss: 1.4227\n",
            "814/814 [==============================] - 96s 118ms/step - loss: 1.4227\n",
            "Epoch 4/30\n",
            "Epoch 4/30\n",
            "814/814 [==============================] - 96s 118ms/step - loss: 1.3473\n",
            "814/814 [==============================] - 96s 118ms/step - loss: 1.3473\n",
            "Epoch 5/30\n",
            "Epoch 5/30\n",
            "814/814 [==============================] - 96s 118ms/step - loss: 1.2844\n",
            "814/814 [==============================] - 96s 118ms/step - loss: 1.2844\n",
            "Epoch 6/30\n",
            "Epoch 6/30\n",
            "814/814 [==============================] - 96s 118ms/step - loss: 1.2280\n",
            "814/814 [==============================] - 96s 118ms/step - loss: 1.2280\n",
            "Epoch 7/30\n",
            "Epoch 7/30\n",
            "814/814 [==============================] - 96s 118ms/step - loss: 1.1778\n",
            "814/814 [==============================] - 96s 118ms/step - loss: 1.1778\n",
            "Epoch 8/30\n",
            "Epoch 8/30\n",
            "814/814 [==============================] - 96s 118ms/step - loss: 1.1314\n",
            "814/814 [==============================] - 96s 118ms/step - loss: 1.1314\n",
            "Epoch 9/30\n",
            "Epoch 9/30\n",
            "814/814 [==============================] - 96s 118ms/step - loss: 1.0901\n",
            "814/814 [==============================] - 96s 118ms/step - loss: 1.0901\n",
            "Epoch 10/30\n",
            "Epoch 10/30\n",
            "814/814 [==============================] - 96s 117ms/step - loss: 1.0525\n",
            "814/814 [==============================] - 96s 117ms/step - loss: 1.0525\n",
            "Epoch 11/30\n",
            "Epoch 11/30\n",
            "814/814 [==============================] - 95s 117ms/step - loss: 1.0197\n",
            "814/814 [==============================] - 95s 117ms/step - loss: 1.0197\n",
            "Epoch 12/30\n",
            "Epoch 12/30\n",
            "814/814 [==============================] - 95s 117ms/step - loss: 0.9897\n",
            "814/814 [==============================] - 95s 117ms/step - loss: 0.9897\n",
            "Epoch 13/30\n",
            "Epoch 13/30\n",
            "814/814 [==============================] - 96s 118ms/step - loss: 0.9634\n",
            "814/814 [==============================] - 96s 118ms/step - loss: 0.9634\n",
            "Epoch 14/30\n",
            "Epoch 14/30\n",
            "814/814 [==============================] - 96s 118ms/step - loss: 0.9404\n",
            "814/814 [==============================] - 96s 118ms/step - loss: 0.9404\n",
            "Epoch 15/30\n",
            "Epoch 15/30\n",
            "814/814 [==============================] - 96s 118ms/step - loss: 0.9198\n",
            "814/814 [==============================] - 96s 118ms/step - loss: 0.9198\n",
            "Epoch 16/30\n",
            "Epoch 16/30\n",
            "814/814 [==============================] - 96s 118ms/step - loss: 0.9016\n",
            "814/814 [==============================] - 96s 118ms/step - loss: 0.9016\n",
            "Epoch 17/30\n",
            "Epoch 17/30\n",
            "814/814 [==============================] - 96s 117ms/step - loss: 0.8857\n",
            "814/814 [==============================] - 96s 117ms/step - loss: 0.8857\n",
            "Epoch 18/30\n",
            "Epoch 18/30\n",
            "814/814 [==============================] - 96s 117ms/step - loss: 0.8717\n",
            "814/814 [==============================] - 96s 117ms/step - loss: 0.8717\n",
            "Epoch 19/30\n",
            "Epoch 19/30\n",
            "814/814 [==============================] - 96s 118ms/step - loss: 0.8593\n",
            "814/814 [==============================] - 96s 118ms/step - loss: 0.8593\n",
            "Epoch 20/30\n",
            "Epoch 20/30\n",
            "814/814 [==============================] - 96s 118ms/step - loss: 0.8481\n",
            "814/814 [==============================] - 96s 118ms/step - loss: 0.8481\n",
            "Epoch 21/30\n",
            "Epoch 21/30\n",
            "814/814 [==============================] - 96s 118ms/step - loss: 0.8394\n",
            "814/814 [==============================] - 96s 118ms/step - loss: 0.8394\n",
            "Epoch 22/30\n",
            "Epoch 22/30\n",
            "814/814 [==============================] - 96s 118ms/step - loss: 0.8297\n",
            "814/814 [==============================] - 96s 118ms/step - loss: 0.8297\n",
            "Epoch 23/30\n",
            "Epoch 23/30\n",
            "814/814 [==============================] - 96s 118ms/step - loss: 0.8233\n",
            "814/814 [==============================] - 96s 118ms/step - loss: 0.8233\n",
            "Epoch 24/30\n",
            "Epoch 24/30\n",
            "814/814 [==============================] - 96s 118ms/step - loss: 0.8166\n",
            "814/814 [==============================] - 96s 118ms/step - loss: 0.8166\n",
            "Epoch 25/30\n",
            "Epoch 25/30\n",
            "814/814 [==============================] - 96s 118ms/step - loss: 0.8098\n",
            "814/814 [==============================] - 96s 118ms/step - loss: 0.8098\n",
            "Epoch 26/30\n",
            "Epoch 26/30\n",
            "814/814 [==============================] - 96s 118ms/step - loss: 0.8068\n",
            "814/814 [==============================] - 96s 118ms/step - loss: 0.8068\n",
            "Epoch 27/30\n",
            "Epoch 27/30\n",
            "814/814 [==============================] - 96s 118ms/step - loss: 0.8031\n",
            "814/814 [==============================] - 96s 118ms/step - loss: 0.8031\n",
            "Epoch 28/30\n",
            "Epoch 28/30\n",
            "814/814 [==============================] - 96s 118ms/step - loss: 0.8003\n",
            "814/814 [==============================] - 96s 118ms/step - loss: 0.8003\n",
            "Epoch 29/30\n",
            "Epoch 29/30\n",
            "814/814 [==============================] - 96s 118ms/step - loss: 0.7972\n",
            "814/814 [==============================] - 96s 118ms/step - loss: 0.7972\n",
            "Epoch 30/30\n",
            "Epoch 30/30\n",
            "814/814 [==============================] - 96s 118ms/step - loss: 0.7956\n",
            "814/814 [==============================] - 96s 118ms/step - loss: 0.7956\n"
          ],
          "name": "stdout"
        },
        {
          "output_type": "stream",
          "text": [
            "/usr/local/lib/python3.6/dist-packages/tensorflowjs/converters/keras_h5_conversion.py:122: H5pyDeprecationWarning: The default file mode will change to 'r' (read-only) in h5py 3.0. To suppress this warning, pass the mode you need to h5py.File(), or set the global default h5.get_config().default_file_mode, or set the environment variable H5PY_DEFAULT_READONLY=1. Available modes are: 'r', 'r+', 'w', 'w-'/'x', 'a'. See the docs for details.\n",
            "  return h5py.File(h5file)\n",
            "/usr/local/lib/python3.6/dist-packages/tensorflowjs/converters/keras_h5_conversion.py:122: H5pyDeprecationWarning: The default file mode will change to 'r' (read-only) in h5py 3.0. To suppress this warning, pass the mode you need to h5py.File(), or set the global default h5.get_config().default_file_mode, or set the environment variable H5PY_DEFAULT_READONLY=1. Available modes are: 'r', 'r+', 'w', 'w-'/'x', 'a'. See the docs for details.\n",
            "  return h5py.File(h5file)\n",
            "/usr/local/lib/python3.6/dist-packages/ipykernel_launcher.py:8: DeprecationWarning: generator 'ngrams' raised StopIteration\n",
            "  \n",
            "/usr/local/lib/python3.6/dist-packages/ipykernel_launcher.py:8: DeprecationWarning: generator 'ngrams' raised StopIteration\n",
            "  \n"
          ],
          "name": "stderr"
        },
        {
          "output_type": "stream",
          "text": [
            "Model full_songs - Diversity 0.1 - Uni score 0.973 - Bi score 0.627\n",
            "Model full_songs - Diversity 0.1 - Uni score 0.973 - Bi score 0.627\n",
            "Model full_songs - Diversity 0.2 - Uni score 0.957 - Bi score 0.519\n",
            "Model full_songs - Diversity 0.2 - Uni score 0.957 - Bi score 0.519\n",
            "Model full_songs - Diversity 0.30000000000000004 - Uni score 0.974 - Bi score 0.786\n",
            "Model full_songs - Diversity 0.30000000000000004 - Uni score 0.974 - Bi score 0.786\n",
            "Model full_songs - Diversity 0.4 - Uni score 0.972 - Bi score 0.538\n",
            "Model full_songs - Diversity 0.4 - Uni score 0.972 - Bi score 0.538\n",
            "Model full_songs - Diversity 0.5 - Uni score 0.986 - Bi score 0.816\n",
            "Model full_songs - Diversity 0.5 - Uni score 0.986 - Bi score 0.816\n",
            "Model full_songs - Diversity 0.6 - Uni score 0.987 - Bi score 0.439\n",
            "Model full_songs - Diversity 0.6 - Uni score 0.987 - Bi score 0.439\n",
            "Model full_songs - Diversity 0.7000000000000001 - Uni score 0.884 - Bi score 0.62\n",
            "Model full_songs - Diversity 0.7000000000000001 - Uni score 0.884 - Bi score 0.62\n",
            "Model full_songs - Diversity 0.8 - Uni score 0.919 - Bi score 0.339\n",
            "Model full_songs - Diversity 0.8 - Uni score 0.919 - Bi score 0.339\n",
            "Model full_songs - Diversity 0.9 - Uni score 0.863 - Bi score 0.232\n",
            "Model full_songs - Diversity 0.9 - Uni score 0.863 - Bi score 0.232\n"
          ],
          "name": "stdout"
        },
        {
          "output_type": "execute_result",
          "data": {
            "text/html": [
              "<div>\n",
              "<style scoped>\n",
              "    .dataframe tbody tr th:only-of-type {\n",
              "        vertical-align: middle;\n",
              "    }\n",
              "\n",
              "    .dataframe tbody tr th {\n",
              "        vertical-align: top;\n",
              "    }\n",
              "\n",
              "    .dataframe thead th {\n",
              "        text-align: right;\n",
              "    }\n",
              "</style>\n",
              "<table border=\"1\" class=\"dataframe\">\n",
              "  <thead>\n",
              "    <tr style=\"text-align: right;\">\n",
              "      <th></th>\n",
              "      <th>full_songs_uni_score</th>\n",
              "      <th>full_songs_bi_score</th>\n",
              "      <th>full_songs_generated_lyric</th>\n",
              "      <th>full_songs_unmatched_words</th>\n",
              "    </tr>\n",
              "  </thead>\n",
              "  <tbody>\n",
              "    <tr>\n",
              "      <th>0</th>\n",
              "      <td>0.973</td>\n",
              "      <td>0.627</td>\n",
              "      <td>யாரோ\\r\\nகல்யாணம் கச்சேரி எப்போது தீரும்\\r\\n\\r\\...</td>\n",
              "      <td>[பசித்தார், திரியே, காக்கும் காயம், காயம் என்ன...</td>\n",
              "    </tr>\n",
              "    <tr>\n",
              "      <th>1</th>\n",
              "      <td>0.957</td>\n",
              "      <td>0.519</td>\n",
              "      <td>யாரோ\\r\\nகல்யாணம் கச்சேரி எப்போது தீரும்\\r\\n\\r\\...</td>\n",
              "      <td>[கறைந்து, குடியில், பசியேறி, காக்கும் காய்ச்சல...</td>\n",
              "    </tr>\n",
              "    <tr>\n",
              "      <th>2</th>\n",
              "      <td>0.974</td>\n",
              "      <td>0.786</td>\n",
              "      <td>யாரோ\\r\\nகல்யாணம் முடிவான ஆளான்னு\\r\\nசொன்னாலும்...</td>\n",
              "      <td>[ஆளான்னு, ஒன்னோரு, கல்யாணம் முடிவான, முடிவான ஆ...</td>\n",
              "    </tr>\n",
              "    <tr>\n",
              "      <th>3</th>\n",
              "      <td>0.972</td>\n",
              "      <td>0.538</td>\n",
              "      <td>யாரோ\\r\\nகல்யாணம் பண்ணாதே\\r\\nகாண்டா வான்னு கிப்...</td>\n",
              "      <td>[போலீஸ்ஸு, லாப், கல்யாணம் பண்ணாதே, காண்டா வான்...</td>\n",
              "    </tr>\n",
              "    <tr>\n",
              "      <th>4</th>\n",
              "      <td>0.986</td>\n",
              "      <td>0.816</td>\n",
              "      <td>யாரோ\\r\\nகலா ரசிகா ஹோய் கலா ரசிகா\\r\\nமஞ்சப்பட்ட...</td>\n",
              "      <td>[மஞ்சப்பட்டி, மஞ்சப்பட்டி தாலி, சொல்லும் ராசா,...</td>\n",
              "    </tr>\n",
              "    <tr>\n",
              "      <th>5</th>\n",
              "      <td>0.987</td>\n",
              "      <td>0.439</td>\n",
              "      <td>யாரோ\\r\\nகாலை மாலை தேவதை\\r\\nநான் தூங்க சென்று ப...</td>\n",
              "      <td>[தேவாம, மாலை தேவதை, தூங்க சென்று, சென்று பூத்த...</td>\n",
              "    </tr>\n",
              "    <tr>\n",
              "      <th>6</th>\n",
              "      <td>0.884</td>\n",
              "      <td>0.620</td>\n",
              "      <td>யாரோ\\r\\nதன் மோகம் முதல் காவியம் பெருமான்\\r\\nஅட...</td>\n",
              "      <td>[இளமே, வெக்கிறவன், வெச்சிருக்கா, சல்லலோ, .லலலா...</td>\n",
              "    </tr>\n",
              "    <tr>\n",
              "      <th>7</th>\n",
              "      <td>0.919</td>\n",
              "      <td>0.339</td>\n",
              "      <td>யாரோ (2)\\r\\nஇங்கு வருவதை பார்க்கும் போதும் உன்...</td>\n",
              "      <td>[கொடிபூக்கள், வாங்கினாலும், முந்துக்குள், வந்த...</td>\n",
              "    </tr>\n",
              "    <tr>\n",
              "      <th>8</th>\n",
              "      <td>0.863</td>\n",
              "      <td>0.232</td>\n",
              "      <td>யாரோ\\r\\nஅட இவ்வளவு கண்ட கனவா \\r\\nஎன் உச்சி மண்...</td>\n",
              "      <td>[அதைய, என்னென்னம்மோ, கோடிப்பட்டி, சாதியான, அழை...</td>\n",
              "    </tr>\n",
              "  </tbody>\n",
              "</table>\n",
              "</div>"
            ],
            "text/plain": [
              "   full_songs_uni_score  ...                         full_songs_unmatched_words\n",
              "0                 0.973  ...  [பசித்தார், திரியே, காக்கும் காயம், காயம் என்ன...\n",
              "1                 0.957  ...  [கறைந்து, குடியில், பசியேறி, காக்கும் காய்ச்சல...\n",
              "2                 0.974  ...  [ஆளான்னு, ஒன்னோரு, கல்யாணம் முடிவான, முடிவான ஆ...\n",
              "3                 0.972  ...  [போலீஸ்ஸு, லாப், கல்யாணம் பண்ணாதே, காண்டா வான்...\n",
              "4                 0.986  ...  [மஞ்சப்பட்டி, மஞ்சப்பட்டி தாலி, சொல்லும் ராசா,...\n",
              "5                 0.987  ...  [தேவாம, மாலை தேவதை, தூங்க சென்று, சென்று பூத்த...\n",
              "6                 0.884  ...  [இளமே, வெக்கிறவன், வெச்சிருக்கா, சல்லலோ, .லலலா...\n",
              "7                 0.919  ...  [கொடிபூக்கள், வாங்கினாலும், முந்துக்குள், வந்த...\n",
              "8                 0.863  ...  [அதைய, என்னென்னம்மோ, கோடிப்பட்டி, சாதியான, அழை...\n",
              "\n",
              "[9 rows x 4 columns]"
            ]
          },
          "metadata": {
            "tags": []
          },
          "execution_count": 30
        },
        {
          "output_type": "execute_result",
          "data": {
            "text/html": [
              "<div>\n",
              "<style scoped>\n",
              "    .dataframe tbody tr th:only-of-type {\n",
              "        vertical-align: middle;\n",
              "    }\n",
              "\n",
              "    .dataframe tbody tr th {\n",
              "        vertical-align: top;\n",
              "    }\n",
              "\n",
              "    .dataframe thead th {\n",
              "        text-align: right;\n",
              "    }\n",
              "</style>\n",
              "<table border=\"1\" class=\"dataframe\">\n",
              "  <thead>\n",
              "    <tr style=\"text-align: right;\">\n",
              "      <th></th>\n",
              "      <th>full_songs_uni_score</th>\n",
              "      <th>full_songs_bi_score</th>\n",
              "      <th>full_songs_generated_lyric</th>\n",
              "      <th>full_songs_unmatched_words</th>\n",
              "    </tr>\n",
              "  </thead>\n",
              "  <tbody>\n",
              "    <tr>\n",
              "      <th>0</th>\n",
              "      <td>0.973</td>\n",
              "      <td>0.627</td>\n",
              "      <td>யாரோ\\r\\nகல்யாணம் கச்சேரி எப்போது தீரும்\\r\\n\\r\\...</td>\n",
              "      <td>[பசித்தார், திரியே, காக்கும் காயம், காயம் என்ன...</td>\n",
              "    </tr>\n",
              "    <tr>\n",
              "      <th>1</th>\n",
              "      <td>0.957</td>\n",
              "      <td>0.519</td>\n",
              "      <td>யாரோ\\r\\nகல்யாணம் கச்சேரி எப்போது தீரும்\\r\\n\\r\\...</td>\n",
              "      <td>[கறைந்து, குடியில், பசியேறி, காக்கும் காய்ச்சல...</td>\n",
              "    </tr>\n",
              "    <tr>\n",
              "      <th>2</th>\n",
              "      <td>0.974</td>\n",
              "      <td>0.786</td>\n",
              "      <td>யாரோ\\r\\nகல்யாணம் முடிவான ஆளான்னு\\r\\nசொன்னாலும்...</td>\n",
              "      <td>[ஆளான்னு, ஒன்னோரு, கல்யாணம் முடிவான, முடிவான ஆ...</td>\n",
              "    </tr>\n",
              "    <tr>\n",
              "      <th>3</th>\n",
              "      <td>0.972</td>\n",
              "      <td>0.538</td>\n",
              "      <td>யாரோ\\r\\nகல்யாணம் பண்ணாதே\\r\\nகாண்டா வான்னு கிப்...</td>\n",
              "      <td>[போலீஸ்ஸு, லாப், கல்யாணம் பண்ணாதே, காண்டா வான்...</td>\n",
              "    </tr>\n",
              "    <tr>\n",
              "      <th>4</th>\n",
              "      <td>0.986</td>\n",
              "      <td>0.816</td>\n",
              "      <td>யாரோ\\r\\nகலா ரசிகா ஹோய் கலா ரசிகா\\r\\nமஞ்சப்பட்ட...</td>\n",
              "      <td>[மஞ்சப்பட்டி, மஞ்சப்பட்டி தாலி, சொல்லும் ராசா,...</td>\n",
              "    </tr>\n",
              "    <tr>\n",
              "      <th>5</th>\n",
              "      <td>0.987</td>\n",
              "      <td>0.439</td>\n",
              "      <td>யாரோ\\r\\nகாலை மாலை தேவதை\\r\\nநான் தூங்க சென்று ப...</td>\n",
              "      <td>[தேவாம, மாலை தேவதை, தூங்க சென்று, சென்று பூத்த...</td>\n",
              "    </tr>\n",
              "    <tr>\n",
              "      <th>6</th>\n",
              "      <td>0.884</td>\n",
              "      <td>0.620</td>\n",
              "      <td>யாரோ\\r\\nதன் மோகம் முதல் காவியம் பெருமான்\\r\\nஅட...</td>\n",
              "      <td>[இளமே, வெக்கிறவன், வெச்சிருக்கா, சல்லலோ, .லலலா...</td>\n",
              "    </tr>\n",
              "    <tr>\n",
              "      <th>7</th>\n",
              "      <td>0.919</td>\n",
              "      <td>0.339</td>\n",
              "      <td>யாரோ (2)\\r\\nஇங்கு வருவதை பார்க்கும் போதும் உன்...</td>\n",
              "      <td>[கொடிபூக்கள், வாங்கினாலும், முந்துக்குள், வந்த...</td>\n",
              "    </tr>\n",
              "    <tr>\n",
              "      <th>8</th>\n",
              "      <td>0.863</td>\n",
              "      <td>0.232</td>\n",
              "      <td>யாரோ\\r\\nஅட இவ்வளவு கண்ட கனவா \\r\\nஎன் உச்சி மண்...</td>\n",
              "      <td>[அதைய, என்னென்னம்மோ, கோடிப்பட்டி, சாதியான, அழை...</td>\n",
              "    </tr>\n",
              "  </tbody>\n",
              "</table>\n",
              "</div>"
            ],
            "text/plain": [
              "   full_songs_uni_score  ...                         full_songs_unmatched_words\n",
              "0                 0.973  ...  [பசித்தார், திரியே, காக்கும் காயம், காயம் என்ன...\n",
              "1                 0.957  ...  [கறைந்து, குடியில், பசியேறி, காக்கும் காய்ச்சல...\n",
              "2                 0.974  ...  [ஆளான்னு, ஒன்னோரு, கல்யாணம் முடிவான, முடிவான ஆ...\n",
              "3                 0.972  ...  [போலீஸ்ஸு, லாப், கல்யாணம் பண்ணாதே, காண்டா வான்...\n",
              "4                 0.986  ...  [மஞ்சப்பட்டி, மஞ்சப்பட்டி தாலி, சொல்லும் ராசா,...\n",
              "5                 0.987  ...  [தேவாம, மாலை தேவதை, தூங்க சென்று, சென்று பூத்த...\n",
              "6                 0.884  ...  [இளமே, வெக்கிறவன், வெச்சிருக்கா, சல்லலோ, .லலலா...\n",
              "7                 0.919  ...  [கொடிபூக்கள், வாங்கினாலும், முந்துக்குள், வந்த...\n",
              "8                 0.863  ...  [அதைய, என்னென்னம்மோ, கோடிப்பட்டி, சாதியான, அழை...\n",
              "\n",
              "[9 rows x 4 columns]"
            ]
          },
          "metadata": {
            "tags": []
          },
          "execution_count": 30
        }
      ]
    },
    {
      "cell_type": "code",
      "metadata": {
        "id": "KxjmUfff2G-m",
        "colab_type": "code",
        "colab": {}
      },
      "source": [
        ""
      ],
      "execution_count": 0,
      "outputs": []
    }
  ]
}